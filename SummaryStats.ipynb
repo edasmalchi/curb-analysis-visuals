{
 "cells": [
  {
   "cell_type": "code",
   "execution_count": null,
   "metadata": {},
   "outputs": [],
   "source": [
    "import numpy as np\n",
    "import pandas as pd\n",
    "import datetime as dt\n",
    "\n",
    "import sys\n",
    "import operator\n",
    "import copy\n",
    "import importlib\n",
    "\n",
    "import fastparquet\n",
    "import snappy\n",
    "\n",
    "%matplotlib inline\n",
    "import matplotlib.pyplot as plt\n",
    "import matplotlib.dates as mdates\n",
    "import matplotlib.cbook as cbook\n",
    "from pandas.plotting import register_matplotlib_converters\n",
    "register_matplotlib_converters()\n",
    "import seaborn as sns\n",
    "\n",
    "import curbdata as cd"
   ]
  },
  {
   "cell_type": "code",
   "execution_count": null,
   "metadata": {},
   "outputs": [],
   "source": [
    " def showall(df):\n",
    "    #shows entire dataframe\n",
    "    assert df.shape[0] < 5000\n",
    "    with pd.option_context('display.max_rows', None, 'display.max_columns', None):  # more options can be specified also\n",
    "        display(df)"
   ]
  },
  {
   "cell_type": "code",
   "execution_count": null,
   "metadata": {},
   "outputs": [],
   "source": [
    "alldays_timestamped = pd.read_parquet('TimestampToSep11new.parquet')\n",
    "alldays_timestamped.sort_index(level='Timestamp', inplace=True)"
   ]
  },
  {
   "cell_type": "code",
   "execution_count": null,
   "metadata": {},
   "outputs": [],
   "source": [
    "format_dict = {'unrestricted spaces': ['Space 3'],\n",
    "              'location column': 'Vehicle Location',\n",
    "              'violator column': 'Violator',\n",
    "              'enf start/end': ('18:00', '22:00'),\n",
    "              }"
   ]
  },
  {
   "cell_type": "code",
   "execution_count": null,
   "metadata": {},
   "outputs": [],
   "source": [
    "importlib.reload(cd);"
   ]
  },
  {
   "cell_type": "code",
   "execution_count": null,
   "metadata": {},
   "outputs": [],
   "source": [
    "test1 = cd.CurbData(alldays_timestamped, format_dict)"
   ]
  },
  {
   "cell_type": "code",
   "execution_count": null,
   "metadata": {},
   "outputs": [],
   "source": [
    "times = test1.subset(timestamps=('2019-09-01 18:00:01', '2019-09-01 19:00:01'))"
   ]
  },
  {
   "cell_type": "code",
   "execution_count": null,
   "metadata": {},
   "outputs": [],
   "source": [
    "times.violator_timestamp_table().head(5)"
   ]
  },
  {
   "cell_type": "code",
   "execution_count": null,
   "metadata": {},
   "outputs": [],
   "source": [
    "times.blockers_exceed_viol()"
   ]
  },
  {
   "cell_type": "code",
   "execution_count": null,
   "metadata": {},
   "outputs": [],
   "source": [
    "times.df_subset.head(5)"
   ]
  },
  {
   "cell_type": "code",
   "execution_count": null,
   "metadata": {},
   "outputs": [],
   "source": [
    "times.conditional('Violator')"
   ]
  },
  {
   "cell_type": "code",
   "execution_count": null,
   "metadata": {},
   "outputs": [],
   "source": [
    "times.conditional('Blocking')"
   ]
  },
  {
   "cell_type": "code",
   "execution_count": null,
   "metadata": {},
   "outputs": [],
   "source": [
    "mondays.conditional('Violator')"
   ]
  },
  {
   "cell_type": "code",
   "execution_count": null,
   "metadata": {},
   "outputs": [],
   "source": [
    "mondays = test1.subset(weekday='Monday')"
   ]
  },
  {
   "cell_type": "code",
   "execution_count": null,
   "metadata": {},
   "outputs": [],
   "source": [
    "mondays.blockers_exceed_viol()"
   ]
  },
  {
   "cell_type": "code",
   "execution_count": null,
   "metadata": {},
   "outputs": [],
   "source": [
    "times.blockers_exceed_viol()"
   ]
  },
  {
   "cell_type": "code",
   "execution_count": null,
   "metadata": {},
   "outputs": [],
   "source": []
  },
  {
   "cell_type": "markdown",
   "metadata": {},
   "source": [
    "## Moving Forwards\n",
    "### short-term\n",
    "* general speed-up (see Pandas advice, for loops, cython?, weird parallel thing, etc?)\n",
    "    * Pandas 1.0 should help some too\n",
    "* loading zone ends at 10pm (done)\n",
    "* show TNC/CNS activity on plot? (done)\n",
    "* Scatter/fit line of seconds blocked+seconds any violator? (done)\n",
    "* send visual/summary package to Juan for city meeting (Google Slides) (draft 1-2wk) (drafted)\n",
    "\n",
    "### longer-term\n",
    "* rewrite to call blocking stats explicitly for each interval, support datetimeindex? (essentially done)\n",
    "* count # of cars in bike lane, compare to 1 violator, 2 violator  (done!)\n",
    "* --> model counterfactual, bike lane availability under perfect enforcement, (get sizing reccomendation, is 2 enough??, what about if there is no enforcement?? (bigger?) )\n",
    "* OpenCV (w/ David?) (working with Alberto@Strada Labs)\n",
    "* interactive visualization tool, summary stats (late Feb?) (goal of project!) (IP)\n",
    "    * input data standards for viz tool\n",
    "* eventual paper on data/stats\n",
    "* eventual tool description\n"
   ]
  }
 ],
 "metadata": {
  "kernelspec": {
   "display_name": "Python 3",
   "language": "python",
   "name": "python3"
  },
  "language_info": {
   "codemirror_mode": {
    "name": "ipython",
    "version": 3
   },
   "file_extension": ".py",
   "mimetype": "text/x-python",
   "name": "python",
   "nbconvert_exporter": "python",
   "pygments_lexer": "ipython3",
   "version": "3.8.1"
  }
 },
 "nbformat": 4,
 "nbformat_minor": 2
}
