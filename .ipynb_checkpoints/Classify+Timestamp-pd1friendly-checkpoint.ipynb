{
 "cells": [
  {
   "cell_type": "code",
   "execution_count": 1,
   "metadata": {},
   "outputs": [
    {
     "name": "stderr",
     "output_type": "stream",
     "text": [
      "/Users/edasmalchi/anaconda3/envs/pd1/lib/python3.8/site-packages/fastparquet/dataframe.py:5: FutureWarning: pandas.core.index is deprecated and will be removed in a future version.  The public classes are available in the top-level namespace.\n",
      "  from pandas.core.index import CategoricalIndex, RangeIndex, Index, MultiIndex\n"
     ]
    }
   ],
   "source": [
    "import numpy as np\n",
    "import pandas as pd\n",
    "import datetime as dt\n",
    "\n",
    "%matplotlib inline\n",
    "import matplotlib.pyplot as plt\n",
    "import matplotlib.dates as mdates\n",
    "import matplotlib.cbook as cbook\n",
    "\n",
    "import sys\n",
    "import operator\n",
    "\n",
    "import fastparquet\n",
    "import snappy\n",
    "\n",
    "%load_ext cython"
   ]
  },
  {
   "cell_type": "code",
   "execution_count": 2,
   "metadata": {},
   "outputs": [],
   "source": [
    "alldays = pd.read_csv('VehtoSep11new.csv')"
   ]
  },
  {
   "cell_type": "code",
   "execution_count": 3,
   "metadata": {},
   "outputs": [],
   "source": [
    "def showall(df):\n",
    "    #shows entire dataframe\n",
    "    with pd.option_context('display.max_rows', None, 'display.max_columns', None):  # more options can be specified also\n",
    "        display(df)"
   ]
  },
  {
   "cell_type": "code",
   "execution_count": 35,
   "metadata": {},
   "outputs": [],
   "source": [
    "%%cython\n",
    "\n",
    "def zeropad_dates(str_date):\n",
    "    ##TODO speedup candidate?\n",
    "    #pads month and day with zeroes\n",
    "    padded_date = ''\n",
    "    split_date = str_date.split('/')\n",
    "    for value in split_date:\n",
    "        if len(value) < 2:\n",
    "            value = '0' + value\n",
    "        padded_date += (value + '/')\n",
    "    padded_date = padded_date[:-1]\n",
    "    return padded_date"
   ]
  },
  {
   "cell_type": "code",
   "execution_count": 6,
   "metadata": {},
   "outputs": [],
   "source": [
    "def classify_violator(row, st_time='18:00:00', end_time='22:00:00', legal_minutes=15):\n",
    "    ##TODO speedup candidate?\n",
    "    ##TODO rewrite cleaner?\n",
    "    \n",
    "    #classify a row as a violator or not\n",
    "    #considers +15min parked from 18:00-22:30 a violation\n",
    "    \n",
    "    begin, end = row['Begin Date'] + row['Begin Time'], row['Begin Date'] + row['End Time']\n",
    "    time_parked = {'Start':datetime_from_str(begin), 'End':datetime_from_str(end)}\n",
    "    datestr = begin[:10]\n",
    "    \n",
    "    enf_start = datestr + st_time\n",
    "    enf_end = datestr + end_time\n",
    "    enforcement_times = {'Start':datetime_from_str(enf_start), 'End':datetime_from_str(enf_end)}\n",
    "    \n",
    "    latest_start = max(time_parked['Start'], enforcement_times['Start'])\n",
    "    earliest_end = min(time_parked['End'], enforcement_times['End'])\n",
    "    delta = (earliest_end - latest_start).seconds\n",
    "    \n",
    "    suffix = ''\n",
    "    if row['CNS?']:\n",
    "        suffix = ', CNS'\n",
    "    elif row['TNC?']:\n",
    "        suffix = ', TNC'\n",
    "    \n",
    "    #maximum parking duration during enforcement interval\n",
    "    legal_duration_seconds = legal_minutes*60\n",
    "    max_observation = 60**2 * 11\n",
    "    if (delta > legal_duration_seconds \n",
    "        and delta < max_observation \n",
    "        #Space 3 not part of loading zone\n",
    "        and row['Vehicle Location'] in ['Space 1', 'Space 2']):\n",
    "        \n",
    "        return 'Violator' + suffix\n",
    "    elif row['Vehicle Location'] == 'SB bike lane':\n",
    "        return 'Bike Lane Blocking' + suffix\n",
    "    else:\n",
    "        return 'Likely Non-Violator' + suffix\n",
    "    \n",
    "def classify_violators(df):\n",
    "    #add boolean violator column to original (pre-timestamp) df. Also zeropads dates.\n",
    "    \n",
    "    df.dropna(subset=['Begin Time', 'End Time'], inplace=True)\n",
    "    df['Begin Date'] = df['Begin Date'].apply(zeropad_dates)\n",
    "    df['Violator'] = df.apply(classify_violator, axis=1)\n",
    "    \n",
    "    return df\n"
   ]
  },
  {
   "cell_type": "code",
   "execution_count": 1,
   "metadata": {},
   "outputs": [
    {
     "name": "stderr",
     "output_type": "stream",
     "text": [
      "UsageError: Cell magic `%%cython` not found.\n"
     ]
    }
   ],
   "source": [
    "%%cython\n",
    "import pandas as pd\n",
    "import numpy as np\n",
    "import datetime as dt\n",
    "cimport numpy\n",
    "\n",
    "def datetime_from_str(string):\n",
    "    #converts string format dates/times from spreadsheet into Python Datetime objects\n",
    "    \n",
    "    try:\n",
    "        #print('ran, string:{}'.format(string))\n",
    "        format_str = '%m/%d/%Y%I:%M:%S %p'\n",
    "        to_dt = dt.datetime.strptime(string, format_str)\n",
    "    except ValueError:\n",
    "        #handles small portion of values in 24hr format\n",
    "        try:\n",
    "            #print('excepted, string:{}'.format(string))\n",
    "            format_str = '%m/%d/%Y%H:%M:%S'\n",
    "            to_dt = dt.datetime.strptime(string, format_str)\n",
    "        \n",
    "        except ValueError:\n",
    "            #use dict to handle both text-described times\n",
    "            text_times_dict = {'before 12':'12:00:00', 'end of the day':'22:30:00'}\n",
    "            #print('excepted2, string:{}'.format(string))\n",
    "            texttime = string[10:]\n",
    "            time = text_times_dict[texttime]\n",
    "            combined = string[:10] + time\n",
    "            return datetime_from_str(combined)\n",
    "    return to_dt\n",
    "\n",
    "def cy_timestamps_from_interval(dt_start, dt_end):\n",
    "    dt64_st = np.datetime64(dt_start)\n",
    "    #add one second to include end value in range\n",
    "    dt64_end = np.datetime64(dt_end) + np.timedelta64(1, 's')\n",
    "    return np.arange(dt64_st, dt64_end, dtype='datetime64[s]')\n",
    "\n",
    "def timestamps_from_row(row):\n",
    "    #extracts interval from a row of the original spreadsheet\n",
    "    start = row[1]['Begin Date'] + row[1]['Begin Time'] \n",
    "    end = row[1]['Begin Date'] + row[1]['End Time'] \n",
    "    \n",
    "    dt_start = datetime_from_str(start)\n",
    "    dt_end = datetime_from_str(end)\n",
    "    \n",
    "    return cy_timestamps_from_interval(dt_start, dt_end)\n",
    "\n",
    "def index_for_row(row):\n",
    "    #creates timestamp index\n",
    "    timestamps = timestamps_from_row(row)\n",
    "    return pd.Index(timestamps, name='Timestamp')\n",
    "    \n",
    "def df_for_row(row):\n",
    "    #generates multi-indexed (timestamped) dataframe from a single row of the original spreadsheet\n",
    "    try:\n",
    "        ind = index_for_row(row)\n",
    "        row_df = pd.DataFrame(row[1]).swapaxes('index', 'columns')\n",
    "        row_df = pd.concat([row_df]*len(ind))\n",
    "        row_df.index = ind\n",
    "    except ValueError:\n",
    "        display(row_df)\n",
    "        print(ind)\n",
    "        return\n",
    "    return row_df\n",
    "\n",
    "def cy_timestamp_df(df):\n",
    "    ##TODO speedup, probably tough to get rid of the for loop here\n",
    "    #Generates timestamped dataframe from original spreadsheet, after classify violators. Currently slow to run. \n",
    "    i = 0\n",
    "    df_list = []\n",
    "    timestamped_df = pd.DataFrame()\n",
    "    for row in df.iterrows():\n",
    "        if i % 100 == 0:\n",
    "            #TODO rewrite to include %complete, ETA?\n",
    "            print('Processing Row: {}, {}% complete'.format(i, int((i/df.shape[0])*100)))\n",
    "        i += 1\n",
    "        df_list += [df_for_row(row)]\n",
    "#     hunch this might be a faster way of doing things\n",
    "#     for df in df_list:\n",
    "#         timestamped_df = timestamped_df.append(df)\n",
    "    #concat should be faster, but maybe not actually?\n",
    "    #try append with list...\n",
    "    timestamped_df = pd.append(df_list)\n",
    "    return timestamped_df"
   ]
  },
  {
   "cell_type": "code",
   "execution_count": 34,
   "metadata": {},
   "outputs": [],
   "source": [
    "def timestamp_and_classify_violators(df):\n",
    "    return cy_timestamp_df(classify_violators(df)) "
   ]
  },
  {
   "cell_type": "code",
   "execution_count": 11,
   "metadata": {},
   "outputs": [],
   "source": [
    "def reset_viol_time(df, hour=22, opr='=='):\n",
    "##TODO reduce reduncency? \n",
    "\n",
    "    ops = {'>': operator.gt,\n",
    "           '<': operator.lt,\n",
    "           '>=': operator.ge,\n",
    "           '<=': operator.le,\n",
    "           '==': operator.eq}\n",
    "\n",
    "    df.sort_index(level='Timestamp', inplace=True)\n",
    "    times = df.index.get_level_values(level='Timestamp')\n",
    "    hr = ops[opr](times.hour, hour)\n",
    "    filtered = df.loc[hr]\n",
    "    filtered.loc[:, 'Violator'] = filtered.loc[:, 'Violator'].apply(lambda x: 'Likely Non-Violator' if x == 'Violator' else x)\n",
    "    df = df.loc[~hr]\n",
    "    df = df.append(filtered)\n",
    "    return df\n",
    "\n",
    "##DONE added to initial viol classifier\n",
    "# def add_tnc_cns(df):\n",
    "#     if df['CNS?']:\n",
    "#         df['Violator'] = df['Violator'] + ', CNS'\n",
    "#     elif df['TNC?']:\n",
    "#         df['Violator'] = df['Violator'] + ', TNC'\n",
    "#     return df\n",
    "#%prun -l 20 time alldays_timestamped = alldays_timestamped.apply(add_tnc_cns, axis=1)"
   ]
  },
  {
   "cell_type": "markdown",
   "metadata": {},
   "source": [
    "## to-do Feb18\n",
    "* fix new indexing issue\n",
    "* properly handle zero-duration (currently getting no index and dropped)\n",
    "* fix underlying data as needed"
   ]
  },
  {
   "cell_type": "code",
   "execution_count": null,
   "metadata": {},
   "outputs": [],
   "source": [
    "# testind = alldays_timestamped.index\n",
    "\n",
    "# testind.get_loc(1536)\n",
    "\n",
    "# testind.iloc[581970:581990]\n",
    "\n",
    "# testser.iloc[452750:452770]\n",
    "\n",
    "# testser.iloc[581970:581990]\n",
    "\n",
    "# testser.iloc[1188490:1188530]\n",
    "\n",
    "# testser = testind.to_series()\n",
    "\n",
    "# type (testser.iloc[0])\n",
    "\n",
    "# for value in testser:\n",
    "#     if type(value) != pd._libs.tslibs.timestamps.Timestamp:\n",
    "#         print(value)"
   ]
  },
  {
   "cell_type": "code",
   "execution_count": 38,
   "metadata": {},
   "outputs": [],
   "source": [
    "ad_short = alldays.copy()[:100]"
   ]
  },
  {
   "cell_type": "code",
   "execution_count": 41,
   "metadata": {},
   "outputs": [
    {
     "name": "stdout",
     "output_type": "stream",
     "text": [
      "Processing Row: 0, 0% complete\n",
      "Processing Row: 0, 0% complete\n",
      "Processing Row: 0, 0% complete\n",
      "Processing Row: 0, 0% complete\n",
      "Processing Row: 0, 0% complete\n",
      "Processing Row: 0, 0% complete\n",
      "Processing Row: 0, 0% complete\n",
      "Processing Row: 0, 0% complete\n",
      "6.11 s ± 372 ms per loop (mean ± std. dev. of 7 runs, 1 loop each)\n"
     ]
    }
   ],
   "source": [
    "%%timeit\n",
    "adt_short = timestamp_and_classify_violators(ad_short)"
   ]
  },
  {
   "cell_type": "code",
   "execution_count": 45,
   "metadata": {},
   "outputs": [
    {
     "name": "stdout",
     "output_type": "stream",
     "text": [
      "Processing Row: 0, 0% complete\n",
      "Processing Row: 100, 4% complete\n",
      "Processing Row: 200, 8% complete\n",
      "Processing Row: 300, 13% complete\n",
      "Processing Row: 400, 17% complete\n",
      "Processing Row: 500, 22% complete\n",
      "Processing Row: 600, 26% complete\n",
      "Processing Row: 700, 31% complete\n",
      "Processing Row: 800, 35% complete\n",
      "Processing Row: 900, 39% complete\n",
      "Processing Row: 1000, 44% complete\n",
      "Processing Row: 1100, 48% complete\n",
      "Processing Row: 1200, 53% complete\n",
      "Processing Row: 1300, 57% complete\n",
      "Processing Row: 1400, 62% complete\n",
      "Processing Row: 1500, 66% complete\n",
      "Processing Row: 1600, 70% complete\n",
      "Processing Row: 1700, 75% complete\n",
      "Processing Row: 1800, 79% complete\n",
      "Processing Row: 1900, 84% complete\n",
      "Processing Row: 2000, 88% complete\n",
      "Processing Row: 2100, 93% complete\n",
      "Processing Row: 2200, 97% complete\n"
     ]
    },
    {
     "ename": "UnboundLocalError",
     "evalue": "local variable 'timestamped_df' referenced before assignment",
     "output_type": "error",
     "traceback": [
      "\u001b[0;31m---------------------------------------------------------------------------\u001b[0m",
      "\u001b[0;31mUnboundLocalError\u001b[0m                         Traceback (most recent call last)",
      "\u001b[0;32m<ipython-input-45-3bc7476cc340>\u001b[0m in \u001b[0;36m<module>\u001b[0;34m\u001b[0m\n\u001b[0;32m----> 1\u001b[0;31m \u001b[0mget_ipython\u001b[0m\u001b[0;34m(\u001b[0m\u001b[0;34m)\u001b[0m\u001b[0;34m.\u001b[0m\u001b[0mrun_cell_magic\u001b[0m\u001b[0;34m(\u001b[0m\u001b[0;34m'prun'\u001b[0m\u001b[0;34m,\u001b[0m \u001b[0;34m'-l 50'\u001b[0m\u001b[0;34m,\u001b[0m \u001b[0;34m'alldays_timestamped = timestamp_and_classify_violators(alldays)\\n'\u001b[0m\u001b[0;34m)\u001b[0m\u001b[0;34m\u001b[0m\u001b[0;34m\u001b[0m\u001b[0m\n\u001b[0m",
      "\u001b[0;32m~/anaconda3/envs/pd1/lib/python3.8/site-packages/IPython/core/interactiveshell.py\u001b[0m in \u001b[0;36mrun_cell_magic\u001b[0;34m(self, magic_name, line, cell)\u001b[0m\n\u001b[1;32m   2350\u001b[0m             \u001b[0;32mwith\u001b[0m \u001b[0mself\u001b[0m\u001b[0;34m.\u001b[0m\u001b[0mbuiltin_trap\u001b[0m\u001b[0;34m:\u001b[0m\u001b[0;34m\u001b[0m\u001b[0;34m\u001b[0m\u001b[0m\n\u001b[1;32m   2351\u001b[0m                 \u001b[0margs\u001b[0m \u001b[0;34m=\u001b[0m \u001b[0;34m(\u001b[0m\u001b[0mmagic_arg_s\u001b[0m\u001b[0;34m,\u001b[0m \u001b[0mcell\u001b[0m\u001b[0;34m)\u001b[0m\u001b[0;34m\u001b[0m\u001b[0;34m\u001b[0m\u001b[0m\n\u001b[0;32m-> 2352\u001b[0;31m                 \u001b[0mresult\u001b[0m \u001b[0;34m=\u001b[0m \u001b[0mfn\u001b[0m\u001b[0;34m(\u001b[0m\u001b[0;34m*\u001b[0m\u001b[0margs\u001b[0m\u001b[0;34m,\u001b[0m \u001b[0;34m**\u001b[0m\u001b[0mkwargs\u001b[0m\u001b[0;34m)\u001b[0m\u001b[0;34m\u001b[0m\u001b[0;34m\u001b[0m\u001b[0m\n\u001b[0m\u001b[1;32m   2353\u001b[0m             \u001b[0;32mreturn\u001b[0m \u001b[0mresult\u001b[0m\u001b[0;34m\u001b[0m\u001b[0;34m\u001b[0m\u001b[0m\n\u001b[1;32m   2354\u001b[0m \u001b[0;34m\u001b[0m\u001b[0m\n",
      "\u001b[0;32m</Users/edasmalchi/anaconda3/envs/pd1/lib/python3.8/site-packages/decorator.py:decorator-gen-55>\u001b[0m in \u001b[0;36mprun\u001b[0;34m(self, parameter_s, cell)\u001b[0m\n",
      "\u001b[0;32m~/anaconda3/envs/pd1/lib/python3.8/site-packages/IPython/core/magic.py\u001b[0m in \u001b[0;36m<lambda>\u001b[0;34m(f, *a, **k)\u001b[0m\n\u001b[1;32m    185\u001b[0m     \u001b[0;31m# but it's overkill for just that one bit of state.\u001b[0m\u001b[0;34m\u001b[0m\u001b[0;34m\u001b[0m\u001b[0;34m\u001b[0m\u001b[0m\n\u001b[1;32m    186\u001b[0m     \u001b[0;32mdef\u001b[0m \u001b[0mmagic_deco\u001b[0m\u001b[0;34m(\u001b[0m\u001b[0marg\u001b[0m\u001b[0;34m)\u001b[0m\u001b[0;34m:\u001b[0m\u001b[0;34m\u001b[0m\u001b[0;34m\u001b[0m\u001b[0m\n\u001b[0;32m--> 187\u001b[0;31m         \u001b[0mcall\u001b[0m \u001b[0;34m=\u001b[0m \u001b[0;32mlambda\u001b[0m \u001b[0mf\u001b[0m\u001b[0;34m,\u001b[0m \u001b[0;34m*\u001b[0m\u001b[0ma\u001b[0m\u001b[0;34m,\u001b[0m \u001b[0;34m**\u001b[0m\u001b[0mk\u001b[0m\u001b[0;34m:\u001b[0m \u001b[0mf\u001b[0m\u001b[0;34m(\u001b[0m\u001b[0;34m*\u001b[0m\u001b[0ma\u001b[0m\u001b[0;34m,\u001b[0m \u001b[0;34m**\u001b[0m\u001b[0mk\u001b[0m\u001b[0;34m)\u001b[0m\u001b[0;34m\u001b[0m\u001b[0;34m\u001b[0m\u001b[0m\n\u001b[0m\u001b[1;32m    188\u001b[0m \u001b[0;34m\u001b[0m\u001b[0m\n\u001b[1;32m    189\u001b[0m         \u001b[0;32mif\u001b[0m \u001b[0mcallable\u001b[0m\u001b[0;34m(\u001b[0m\u001b[0marg\u001b[0m\u001b[0;34m)\u001b[0m\u001b[0;34m:\u001b[0m\u001b[0;34m\u001b[0m\u001b[0;34m\u001b[0m\u001b[0m\n",
      "\u001b[0;32m~/anaconda3/envs/pd1/lib/python3.8/site-packages/IPython/core/magics/execution.py\u001b[0m in \u001b[0;36mprun\u001b[0;34m(self, parameter_s, cell)\u001b[0m\n\u001b[1;32m    315\u001b[0m             \u001b[0marg_str\u001b[0m \u001b[0;34m+=\u001b[0m \u001b[0;34m'\\n'\u001b[0m \u001b[0;34m+\u001b[0m \u001b[0mcell\u001b[0m\u001b[0;34m\u001b[0m\u001b[0;34m\u001b[0m\u001b[0m\n\u001b[1;32m    316\u001b[0m         \u001b[0marg_str\u001b[0m \u001b[0;34m=\u001b[0m \u001b[0mself\u001b[0m\u001b[0;34m.\u001b[0m\u001b[0mshell\u001b[0m\u001b[0;34m.\u001b[0m\u001b[0mtransform_cell\u001b[0m\u001b[0;34m(\u001b[0m\u001b[0marg_str\u001b[0m\u001b[0;34m)\u001b[0m\u001b[0;34m\u001b[0m\u001b[0;34m\u001b[0m\u001b[0m\n\u001b[0;32m--> 317\u001b[0;31m         \u001b[0;32mreturn\u001b[0m \u001b[0mself\u001b[0m\u001b[0;34m.\u001b[0m\u001b[0m_run_with_profiler\u001b[0m\u001b[0;34m(\u001b[0m\u001b[0marg_str\u001b[0m\u001b[0;34m,\u001b[0m \u001b[0mopts\u001b[0m\u001b[0;34m,\u001b[0m \u001b[0mself\u001b[0m\u001b[0;34m.\u001b[0m\u001b[0mshell\u001b[0m\u001b[0;34m.\u001b[0m\u001b[0muser_ns\u001b[0m\u001b[0;34m)\u001b[0m\u001b[0;34m\u001b[0m\u001b[0;34m\u001b[0m\u001b[0m\n\u001b[0m\u001b[1;32m    318\u001b[0m \u001b[0;34m\u001b[0m\u001b[0m\n\u001b[1;32m    319\u001b[0m     \u001b[0;32mdef\u001b[0m \u001b[0m_run_with_profiler\u001b[0m\u001b[0;34m(\u001b[0m\u001b[0mself\u001b[0m\u001b[0;34m,\u001b[0m \u001b[0mcode\u001b[0m\u001b[0;34m,\u001b[0m \u001b[0mopts\u001b[0m\u001b[0;34m,\u001b[0m \u001b[0mnamespace\u001b[0m\u001b[0;34m)\u001b[0m\u001b[0;34m:\u001b[0m\u001b[0;34m\u001b[0m\u001b[0;34m\u001b[0m\u001b[0m\n",
      "\u001b[0;32m~/anaconda3/envs/pd1/lib/python3.8/site-packages/IPython/core/magics/execution.py\u001b[0m in \u001b[0;36m_run_with_profiler\u001b[0;34m(self, code, opts, namespace)\u001b[0m\n\u001b[1;32m    337\u001b[0m         \u001b[0mprof\u001b[0m \u001b[0;34m=\u001b[0m \u001b[0mprofile\u001b[0m\u001b[0;34m.\u001b[0m\u001b[0mProfile\u001b[0m\u001b[0;34m(\u001b[0m\u001b[0;34m)\u001b[0m\u001b[0;34m\u001b[0m\u001b[0;34m\u001b[0m\u001b[0m\n\u001b[1;32m    338\u001b[0m         \u001b[0;32mtry\u001b[0m\u001b[0;34m:\u001b[0m\u001b[0;34m\u001b[0m\u001b[0;34m\u001b[0m\u001b[0m\n\u001b[0;32m--> 339\u001b[0;31m             \u001b[0mprof\u001b[0m \u001b[0;34m=\u001b[0m \u001b[0mprof\u001b[0m\u001b[0;34m.\u001b[0m\u001b[0mrunctx\u001b[0m\u001b[0;34m(\u001b[0m\u001b[0mcode\u001b[0m\u001b[0;34m,\u001b[0m \u001b[0mnamespace\u001b[0m\u001b[0;34m,\u001b[0m \u001b[0mnamespace\u001b[0m\u001b[0;34m)\u001b[0m\u001b[0;34m\u001b[0m\u001b[0;34m\u001b[0m\u001b[0m\n\u001b[0m\u001b[1;32m    340\u001b[0m             \u001b[0msys_exit\u001b[0m \u001b[0;34m=\u001b[0m \u001b[0;34m''\u001b[0m\u001b[0;34m\u001b[0m\u001b[0;34m\u001b[0m\u001b[0m\n\u001b[1;32m    341\u001b[0m         \u001b[0;32mexcept\u001b[0m \u001b[0mSystemExit\u001b[0m\u001b[0;34m:\u001b[0m\u001b[0;34m\u001b[0m\u001b[0;34m\u001b[0m\u001b[0m\n",
      "\u001b[0;32m~/anaconda3/envs/pd1/lib/python3.8/cProfile.py\u001b[0m in \u001b[0;36mrunctx\u001b[0;34m(self, cmd, globals, locals)\u001b[0m\n\u001b[1;32m     98\u001b[0m         \u001b[0mself\u001b[0m\u001b[0;34m.\u001b[0m\u001b[0menable\u001b[0m\u001b[0;34m(\u001b[0m\u001b[0;34m)\u001b[0m\u001b[0;34m\u001b[0m\u001b[0;34m\u001b[0m\u001b[0m\n\u001b[1;32m     99\u001b[0m         \u001b[0;32mtry\u001b[0m\u001b[0;34m:\u001b[0m\u001b[0;34m\u001b[0m\u001b[0;34m\u001b[0m\u001b[0m\n\u001b[0;32m--> 100\u001b[0;31m             \u001b[0mexec\u001b[0m\u001b[0;34m(\u001b[0m\u001b[0mcmd\u001b[0m\u001b[0;34m,\u001b[0m \u001b[0mglobals\u001b[0m\u001b[0;34m,\u001b[0m \u001b[0mlocals\u001b[0m\u001b[0;34m)\u001b[0m\u001b[0;34m\u001b[0m\u001b[0;34m\u001b[0m\u001b[0m\n\u001b[0m\u001b[1;32m    101\u001b[0m         \u001b[0;32mfinally\u001b[0m\u001b[0;34m:\u001b[0m\u001b[0;34m\u001b[0m\u001b[0;34m\u001b[0m\u001b[0m\n\u001b[1;32m    102\u001b[0m             \u001b[0mself\u001b[0m\u001b[0;34m.\u001b[0m\u001b[0mdisable\u001b[0m\u001b[0;34m(\u001b[0m\u001b[0;34m)\u001b[0m\u001b[0;34m\u001b[0m\u001b[0;34m\u001b[0m\u001b[0m\n",
      "\u001b[0;32m<string>\u001b[0m in \u001b[0;36m<module>\u001b[0;34m\u001b[0m\n",
      "\u001b[0;32m<ipython-input-34-94230a4670ec>\u001b[0m in \u001b[0;36mtimestamp_and_classify_violators\u001b[0;34m(df)\u001b[0m\n\u001b[1;32m      1\u001b[0m \u001b[0;32mdef\u001b[0m \u001b[0mtimestamp_and_classify_violators\u001b[0m\u001b[0;34m(\u001b[0m\u001b[0mdf\u001b[0m\u001b[0;34m)\u001b[0m\u001b[0;34m:\u001b[0m\u001b[0;34m\u001b[0m\u001b[0;34m\u001b[0m\u001b[0m\n\u001b[0;32m----> 2\u001b[0;31m     \u001b[0;32mreturn\u001b[0m \u001b[0mcy_timestamp_df\u001b[0m\u001b[0;34m(\u001b[0m\u001b[0mclassify_violators\u001b[0m\u001b[0;34m(\u001b[0m\u001b[0mdf\u001b[0m\u001b[0;34m)\u001b[0m\u001b[0;34m)\u001b[0m\u001b[0;34m\u001b[0m\u001b[0;34m\u001b[0m\u001b[0m\n\u001b[0m",
      "\u001b[0;32m_cython_magic_669bbb87eaf405cb5e56cd25dbb35040.pyx\u001b[0m in \u001b[0;36m_cython_magic_669bbb87eaf405cb5e56cd25dbb35040.cy_timestamp_df\u001b[0;34m()\u001b[0m\n",
      "\u001b[0;31mUnboundLocalError\u001b[0m: local variable 'timestamped_df' referenced before assignment"
     ]
    }
   ],
   "source": [
    "%%prun -l 50\n",
    "alldays_timestamped = timestamp_and_classify_violators(alldays)"
   ]
  },
  {
   "cell_type": "markdown",
   "metadata": {},
   "source": [
    "* first run again to see total speed...\n",
    "* then, test if concat is actually faster here?"
   ]
  },
  {
   "cell_type": "code",
   "execution_count": null,
   "metadata": {},
   "outputs": [],
   "source": [
    "alldays_timestamped = reset_viol_time(alldays_timestamped)\n",
    "alldays_timestamped = reset_viol_time(alldays_timestamped, hour=18, opr='<')\n",
    "#alldays_timestamped = alldays_timestamped.apply(add_tnc_cns, axis=1)"
   ]
  },
  {
   "cell_type": "code",
   "execution_count": null,
   "metadata": {},
   "outputs": [],
   "source": [
    "alldays_timestamped.shape"
   ]
  },
  {
   "cell_type": "code",
   "execution_count": null,
   "metadata": {},
   "outputs": [],
   "source": [
    "alldays_timestamped.shape"
   ]
  },
  {
   "cell_type": "code",
   "execution_count": null,
   "metadata": {},
   "outputs": [],
   "source": [
    "alldays_timestamped.to_parquet('TimestampToSep11new.parquet')"
   ]
  }
 ],
 "metadata": {
  "kernelspec": {
   "display_name": "Python 3",
   "language": "python",
   "name": "python3"
  },
  "language_info": {
   "codemirror_mode": {
    "name": "ipython",
    "version": 3
   },
   "file_extension": ".py",
   "mimetype": "text/x-python",
   "name": "python",
   "nbconvert_exporter": "python",
   "pygments_lexer": "ipython3",
   "version": "3.8.1"
  }
 },
 "nbformat": 4,
 "nbformat_minor": 2
}
