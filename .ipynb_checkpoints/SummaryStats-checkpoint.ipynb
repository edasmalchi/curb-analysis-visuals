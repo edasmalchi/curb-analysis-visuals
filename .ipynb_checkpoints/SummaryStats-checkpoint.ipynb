{
 "cells": [
  {
   "cell_type": "code",
   "execution_count": 2,
   "metadata": {},
   "outputs": [
    {
     "name": "stderr",
     "output_type": "stream",
     "text": [
      "/Users/edasmalchi/anaconda3/envs/pd1/lib/python3.8/site-packages/fastparquet/dataframe.py:5: FutureWarning: pandas.core.index is deprecated and will be removed in a future version.  The public classes are available in the top-level namespace.\n",
      "  from pandas.core.index import CategoricalIndex, RangeIndex, Index, MultiIndex\n"
     ]
    }
   ],
   "source": [
    "import numpy as np\n",
    "import pandas as pd\n",
    "import datetime as dt\n",
    "\n",
    "import sys\n",
    "import operator\n",
    "import copy\n",
    "import importlib\n",
    "\n",
    "import fastparquet\n",
    "import snappy\n",
    "\n",
    "%matplotlib inline\n",
    "import matplotlib.pyplot as plt\n",
    "import matplotlib.dates as mdates\n",
    "import matplotlib.cbook as cbook\n",
    "from pandas.plotting import register_matplotlib_converters\n",
    "register_matplotlib_converters()\n",
    "import seaborn as sns\n",
    "\n",
    "import curbdata as cd"
   ]
  },
  {
   "cell_type": "code",
   "execution_count": 3,
   "metadata": {},
   "outputs": [],
   "source": [
    " def showall(df):\n",
    "    #shows entire dataframe\n",
    "    assert df.shape[0] < 5000\n",
    "    with pd.option_context('display.max_rows', None, 'display.max_columns', None):  # more options can be specified also\n",
    "        display(df)"
   ]
  },
  {
   "cell_type": "code",
   "execution_count": 4,
   "metadata": {},
   "outputs": [],
   "source": [
    "alldays_timestamped = pd.read_parquet('TimestampToSep11new.parquet')\n",
    "alldays_timestamped.sort_index(level='Timestamp', inplace=True)"
   ]
  },
  {
   "cell_type": "code",
   "execution_count": 5,
   "metadata": {},
   "outputs": [],
   "source": [
    "format_dict = {'unrestricted spaces': ['Space 3'],\n",
    "              'location column': 'Vehicle Location',\n",
    "              'violator column': 'Violator',\n",
    "              'enf start/end': ('18:00', '22:00'),\n",
    "              }"
   ]
  },
  {
   "cell_type": "code",
   "execution_count": 20,
   "metadata": {},
   "outputs": [],
   "source": [
    "importlib.reload(cd);"
   ]
  },
  {
   "cell_type": "code",
   "execution_count": 21,
   "metadata": {},
   "outputs": [],
   "source": [
    "test1 = cd.CurbData(alldays_timestamped, format_dict)"
   ]
  },
  {
   "cell_type": "code",
   "execution_count": 22,
   "metadata": {},
   "outputs": [],
   "source": [
    "times = test1.subset(timestamps=('2019-09-01 18:00:01', '2019-09-01 19:00:01'))"
   ]
  },
  {
   "cell_type": "code",
   "execution_count": 13,
   "metadata": {},
   "outputs": [
    {
     "data": {
      "text/html": [
       "<div>\n",
       "<style scoped>\n",
       "    .dataframe tbody tr th:only-of-type {\n",
       "        vertical-align: middle;\n",
       "    }\n",
       "\n",
       "    .dataframe tbody tr th {\n",
       "        vertical-align: top;\n",
       "    }\n",
       "\n",
       "    .dataframe thead th {\n",
       "        text-align: right;\n",
       "    }\n",
       "</style>\n",
       "<table border=\"1\" class=\"dataframe\">\n",
       "  <thead>\n",
       "    <tr style=\"text-align: right;\">\n",
       "      <th></th>\n",
       "      <th>Likely Non-Violator, CNS</th>\n",
       "      <th>Likely Non-Violator</th>\n",
       "      <th>Bike Lane Blocking, CNS</th>\n",
       "      <th>Bike Lane Blocking, TNC</th>\n",
       "      <th>Bike Lane Blocking</th>\n",
       "      <th>Likely Non-Violator, TNC</th>\n",
       "      <th>Violator</th>\n",
       "      <th>Total Violators</th>\n",
       "      <th>Total Blockers</th>\n",
       "      <th>Blockers Less Violators</th>\n",
       "      <th>Any Violator</th>\n",
       "      <th>Any Blocking</th>\n",
       "    </tr>\n",
       "    <tr>\n",
       "      <th>Timestamp</th>\n",
       "      <th></th>\n",
       "      <th></th>\n",
       "      <th></th>\n",
       "      <th></th>\n",
       "      <th></th>\n",
       "      <th></th>\n",
       "      <th></th>\n",
       "      <th></th>\n",
       "      <th></th>\n",
       "      <th></th>\n",
       "      <th></th>\n",
       "      <th></th>\n",
       "    </tr>\n",
       "  </thead>\n",
       "  <tbody>\n",
       "    <tr>\n",
       "      <th>2019-09-01 18:00:02</th>\n",
       "      <td>2.0</td>\n",
       "      <td>2.0</td>\n",
       "      <td>1.0</td>\n",
       "      <td>NaN</td>\n",
       "      <td>NaN</td>\n",
       "      <td>NaN</td>\n",
       "      <td>NaN</td>\n",
       "      <td>0.0</td>\n",
       "      <td>1.0</td>\n",
       "      <td>1.0</td>\n",
       "      <td>0</td>\n",
       "      <td>1</td>\n",
       "    </tr>\n",
       "    <tr>\n",
       "      <th>2019-09-01 18:00:03</th>\n",
       "      <td>2.0</td>\n",
       "      <td>2.0</td>\n",
       "      <td>1.0</td>\n",
       "      <td>NaN</td>\n",
       "      <td>NaN</td>\n",
       "      <td>NaN</td>\n",
       "      <td>NaN</td>\n",
       "      <td>0.0</td>\n",
       "      <td>1.0</td>\n",
       "      <td>1.0</td>\n",
       "      <td>0</td>\n",
       "      <td>1</td>\n",
       "    </tr>\n",
       "    <tr>\n",
       "      <th>2019-09-01 18:00:04</th>\n",
       "      <td>2.0</td>\n",
       "      <td>2.0</td>\n",
       "      <td>1.0</td>\n",
       "      <td>NaN</td>\n",
       "      <td>NaN</td>\n",
       "      <td>NaN</td>\n",
       "      <td>NaN</td>\n",
       "      <td>0.0</td>\n",
       "      <td>1.0</td>\n",
       "      <td>1.0</td>\n",
       "      <td>0</td>\n",
       "      <td>1</td>\n",
       "    </tr>\n",
       "    <tr>\n",
       "      <th>2019-09-01 18:00:05</th>\n",
       "      <td>2.0</td>\n",
       "      <td>2.0</td>\n",
       "      <td>1.0</td>\n",
       "      <td>NaN</td>\n",
       "      <td>NaN</td>\n",
       "      <td>NaN</td>\n",
       "      <td>NaN</td>\n",
       "      <td>0.0</td>\n",
       "      <td>1.0</td>\n",
       "      <td>1.0</td>\n",
       "      <td>0</td>\n",
       "      <td>1</td>\n",
       "    </tr>\n",
       "    <tr>\n",
       "      <th>2019-09-01 18:00:06</th>\n",
       "      <td>2.0</td>\n",
       "      <td>2.0</td>\n",
       "      <td>1.0</td>\n",
       "      <td>NaN</td>\n",
       "      <td>NaN</td>\n",
       "      <td>NaN</td>\n",
       "      <td>NaN</td>\n",
       "      <td>0.0</td>\n",
       "      <td>1.0</td>\n",
       "      <td>1.0</td>\n",
       "      <td>0</td>\n",
       "      <td>1</td>\n",
       "    </tr>\n",
       "  </tbody>\n",
       "</table>\n",
       "</div>"
      ],
      "text/plain": [
       "                     Likely Non-Violator, CNS  Likely Non-Violator  \\\n",
       "Timestamp                                                            \n",
       "2019-09-01 18:00:02                       2.0                  2.0   \n",
       "2019-09-01 18:00:03                       2.0                  2.0   \n",
       "2019-09-01 18:00:04                       2.0                  2.0   \n",
       "2019-09-01 18:00:05                       2.0                  2.0   \n",
       "2019-09-01 18:00:06                       2.0                  2.0   \n",
       "\n",
       "                     Bike Lane Blocking, CNS  Bike Lane Blocking, TNC  \\\n",
       "Timestamp                                                               \n",
       "2019-09-01 18:00:02                      1.0                      NaN   \n",
       "2019-09-01 18:00:03                      1.0                      NaN   \n",
       "2019-09-01 18:00:04                      1.0                      NaN   \n",
       "2019-09-01 18:00:05                      1.0                      NaN   \n",
       "2019-09-01 18:00:06                      1.0                      NaN   \n",
       "\n",
       "                     Bike Lane Blocking  Likely Non-Violator, TNC  Violator  \\\n",
       "Timestamp                                                                     \n",
       "2019-09-01 18:00:02                 NaN                       NaN       NaN   \n",
       "2019-09-01 18:00:03                 NaN                       NaN       NaN   \n",
       "2019-09-01 18:00:04                 NaN                       NaN       NaN   \n",
       "2019-09-01 18:00:05                 NaN                       NaN       NaN   \n",
       "2019-09-01 18:00:06                 NaN                       NaN       NaN   \n",
       "\n",
       "                     Total Violators  Total Blockers  Blockers Less Violators  \\\n",
       "Timestamp                                                                       \n",
       "2019-09-01 18:00:02              0.0             1.0                      1.0   \n",
       "2019-09-01 18:00:03              0.0             1.0                      1.0   \n",
       "2019-09-01 18:00:04              0.0             1.0                      1.0   \n",
       "2019-09-01 18:00:05              0.0             1.0                      1.0   \n",
       "2019-09-01 18:00:06              0.0             1.0                      1.0   \n",
       "\n",
       "                     Any Violator  Any Blocking  \n",
       "Timestamp                                        \n",
       "2019-09-01 18:00:02             0             1  \n",
       "2019-09-01 18:00:03             0             1  \n",
       "2019-09-01 18:00:04             0             1  \n",
       "2019-09-01 18:00:05             0             1  \n",
       "2019-09-01 18:00:06             0             1  "
      ]
     },
     "execution_count": 13,
     "metadata": {},
     "output_type": "execute_result"
    }
   ],
   "source": [
    "times.violator_timestamp_table().head(5)"
   ]
  },
  {
   "cell_type": "code",
   "execution_count": 14,
   "metadata": {},
   "outputs": [
    {
     "data": {
      "text/plain": [
       "{'blockers_exceed': 7.833333333333333, 'total_minutes': 59.96666666666667}"
      ]
     },
     "execution_count": 14,
     "metadata": {},
     "output_type": "execute_result"
    }
   ],
   "source": [
    "times.blockers_exceed_viol()"
   ]
  },
  {
   "cell_type": "code",
   "execution_count": 17,
   "metadata": {},
   "outputs": [
    {
     "data": {
      "text/html": [
       "<div>\n",
       "<style scoped>\n",
       "    .dataframe tbody tr th:only-of-type {\n",
       "        vertical-align: middle;\n",
       "    }\n",
       "\n",
       "    .dataframe tbody tr th {\n",
       "        vertical-align: top;\n",
       "    }\n",
       "\n",
       "    .dataframe thead th {\n",
       "        text-align: right;\n",
       "    }\n",
       "</style>\n",
       "<table border=\"1\" class=\"dataframe\">\n",
       "  <thead>\n",
       "    <tr style=\"text-align: right;\">\n",
       "      <th></th>\n",
       "      <th>Activity Id</th>\n",
       "      <th>Begin Date</th>\n",
       "      <th>Begin Time</th>\n",
       "      <th>End Time</th>\n",
       "      <th>Vehicle Location</th>\n",
       "      <th>Vehicle Type</th>\n",
       "      <th>Vehicle Characteristics</th>\n",
       "      <th>Transaction Characteristics</th>\n",
       "      <th>Bikeway Users Displaced</th>\n",
       "      <th>LZ Space Avail</th>\n",
       "      <th>Occupied while idle?</th>\n",
       "      <th>CNS?</th>\n",
       "      <th>TNC?</th>\n",
       "      <th>Notes</th>\n",
       "      <th>Duration</th>\n",
       "      <th>Violator</th>\n",
       "    </tr>\n",
       "    <tr>\n",
       "      <th>Timestamp</th>\n",
       "      <th></th>\n",
       "      <th></th>\n",
       "      <th></th>\n",
       "      <th></th>\n",
       "      <th></th>\n",
       "      <th></th>\n",
       "      <th></th>\n",
       "      <th></th>\n",
       "      <th></th>\n",
       "      <th></th>\n",
       "      <th></th>\n",
       "      <th></th>\n",
       "      <th></th>\n",
       "      <th></th>\n",
       "      <th></th>\n",
       "      <th></th>\n",
       "    </tr>\n",
       "  </thead>\n",
       "  <tbody>\n",
       "    <tr>\n",
       "      <th>2019-09-01 18:00:02</th>\n",
       "      <td>1336</td>\n",
       "      <td>09/01/2019</td>\n",
       "      <td>5:45:56 PM</td>\n",
       "      <td>6:01:43 PM</td>\n",
       "      <td>NB right turn pocket</td>\n",
       "      <td>Car</td>\n",
       "      <td>Blinkers on</td>\n",
       "      <td>None</td>\n",
       "      <td>NaN</td>\n",
       "      <td>1.0</td>\n",
       "      <td>False</td>\n",
       "      <td>1.0</td>\n",
       "      <td>False</td>\n",
       "      <td>None</td>\n",
       "      <td>0:15:47</td>\n",
       "      <td>Likely Non-Violator, CNS</td>\n",
       "    </tr>\n",
       "    <tr>\n",
       "      <th>2019-09-01 18:00:02</th>\n",
       "      <td>1339</td>\n",
       "      <td>09/01/2019</td>\n",
       "      <td>5:58:32 PM</td>\n",
       "      <td>6:01:04 PM</td>\n",
       "      <td>NB right turn pocket</td>\n",
       "      <td>Car</td>\n",
       "      <td>Blinkers on</td>\n",
       "      <td>None</td>\n",
       "      <td>NaN</td>\n",
       "      <td>0.0</td>\n",
       "      <td>True</td>\n",
       "      <td>0.0</td>\n",
       "      <td>False</td>\n",
       "      <td>None</td>\n",
       "      <td>0:02:32</td>\n",
       "      <td>Likely Non-Violator</td>\n",
       "    </tr>\n",
       "    <tr>\n",
       "      <th>2019-09-01 18:00:02</th>\n",
       "      <td>1321</td>\n",
       "      <td>09/01/2019</td>\n",
       "      <td>5:00:00 PM</td>\n",
       "      <td>6:08:26 PM</td>\n",
       "      <td>Space 1</td>\n",
       "      <td>Car</td>\n",
       "      <td>None</td>\n",
       "      <td>Interaction with parking meter</td>\n",
       "      <td>NaN</td>\n",
       "      <td>NaN</td>\n",
       "      <td>False</td>\n",
       "      <td>0.0</td>\n",
       "      <td>False</td>\n",
       "      <td>None</td>\n",
       "      <td>1:08:26</td>\n",
       "      <td>Likely Non-Violator</td>\n",
       "    </tr>\n",
       "    <tr>\n",
       "      <th>2019-09-01 18:00:02</th>\n",
       "      <td>1322</td>\n",
       "      <td>09/01/2019</td>\n",
       "      <td>5:00:00 PM</td>\n",
       "      <td>6:32:42 PM</td>\n",
       "      <td>Space 3</td>\n",
       "      <td>Car</td>\n",
       "      <td>None</td>\n",
       "      <td>None</td>\n",
       "      <td>NaN</td>\n",
       "      <td>NaN</td>\n",
       "      <td>False</td>\n",
       "      <td>0.0</td>\n",
       "      <td>False</td>\n",
       "      <td>None</td>\n",
       "      <td>1:32:42</td>\n",
       "      <td>Likely Non-Violator</td>\n",
       "    </tr>\n",
       "    <tr>\n",
       "      <th>2019-09-01 18:00:02</th>\n",
       "      <td>1340</td>\n",
       "      <td>09/01/2019</td>\n",
       "      <td>5:59:19 PM</td>\n",
       "      <td>6:00:11 PM</td>\n",
       "      <td>SB bike lane</td>\n",
       "      <td>Car</td>\n",
       "      <td>Blinkers on</td>\n",
       "      <td>None</td>\n",
       "      <td>0.0</td>\n",
       "      <td>0.0</td>\n",
       "      <td>False</td>\n",
       "      <td>1.0</td>\n",
       "      <td>False</td>\n",
       "      <td>None</td>\n",
       "      <td>0:00:52</td>\n",
       "      <td>Bike Lane Blocking, CNS</td>\n",
       "    </tr>\n",
       "  </tbody>\n",
       "</table>\n",
       "</div>"
      ],
      "text/plain": [
       "                     Activity Id  Begin Date  Begin Time    End Time  \\\n",
       "Timestamp                                                              \n",
       "2019-09-01 18:00:02         1336  09/01/2019  5:45:56 PM  6:01:43 PM   \n",
       "2019-09-01 18:00:02         1339  09/01/2019  5:58:32 PM  6:01:04 PM   \n",
       "2019-09-01 18:00:02         1321  09/01/2019  5:00:00 PM  6:08:26 PM   \n",
       "2019-09-01 18:00:02         1322  09/01/2019  5:00:00 PM  6:32:42 PM   \n",
       "2019-09-01 18:00:02         1340  09/01/2019  5:59:19 PM  6:00:11 PM   \n",
       "\n",
       "                         Vehicle Location Vehicle Type  \\\n",
       "Timestamp                                                \n",
       "2019-09-01 18:00:02  NB right turn pocket          Car   \n",
       "2019-09-01 18:00:02  NB right turn pocket          Car   \n",
       "2019-09-01 18:00:02               Space 1          Car   \n",
       "2019-09-01 18:00:02               Space 3          Car   \n",
       "2019-09-01 18:00:02          SB bike lane          Car   \n",
       "\n",
       "                    Vehicle Characteristics     Transaction Characteristics  \\\n",
       "Timestamp                                                                     \n",
       "2019-09-01 18:00:02             Blinkers on                            None   \n",
       "2019-09-01 18:00:02             Blinkers on                            None   \n",
       "2019-09-01 18:00:02                    None  Interaction with parking meter   \n",
       "2019-09-01 18:00:02                    None                            None   \n",
       "2019-09-01 18:00:02             Blinkers on                            None   \n",
       "\n",
       "                     Bikeway Users Displaced  LZ Space Avail  \\\n",
       "Timestamp                                                      \n",
       "2019-09-01 18:00:02                      NaN             1.0   \n",
       "2019-09-01 18:00:02                      NaN             0.0   \n",
       "2019-09-01 18:00:02                      NaN             NaN   \n",
       "2019-09-01 18:00:02                      NaN             NaN   \n",
       "2019-09-01 18:00:02                      0.0             0.0   \n",
       "\n",
       "                     Occupied while idle?  CNS?   TNC? Notes Duration  \\\n",
       "Timestamp                                                               \n",
       "2019-09-01 18:00:02                 False   1.0  False  None  0:15:47   \n",
       "2019-09-01 18:00:02                  True   0.0  False  None  0:02:32   \n",
       "2019-09-01 18:00:02                 False   0.0  False  None  1:08:26   \n",
       "2019-09-01 18:00:02                 False   0.0  False  None  1:32:42   \n",
       "2019-09-01 18:00:02                 False   1.0  False  None  0:00:52   \n",
       "\n",
       "                                     Violator  \n",
       "Timestamp                                      \n",
       "2019-09-01 18:00:02  Likely Non-Violator, CNS  \n",
       "2019-09-01 18:00:02       Likely Non-Violator  \n",
       "2019-09-01 18:00:02       Likely Non-Violator  \n",
       "2019-09-01 18:00:02       Likely Non-Violator  \n",
       "2019-09-01 18:00:02   Bike Lane Blocking, CNS  "
      ]
     },
     "execution_count": 17,
     "metadata": {},
     "output_type": "execute_result"
    }
   ],
   "source": [
    "times.df_subset.head(5)"
   ]
  },
  {
   "cell_type": "code",
   "execution_count": 23,
   "metadata": {},
   "outputs": [
    {
     "name": "stdout",
     "output_type": "stream",
     "text": [
      "Out of the 43 minutes that at least one violator was parked in the loading zone, the bike lane was blocked for 13 minutes (30 % of the time!)\n"
     ]
    },
    {
     "data": {
      "text/plain": [
       "{'block_sec': 804.0, 'block_min': 13, 'viol_sec': 2634.0, 'viol_min': 43}"
      ]
     },
     "execution_count": 23,
     "metadata": {},
     "output_type": "execute_result"
    }
   ],
   "source": [
    "times.conditional('Violator')"
   ]
  },
  {
   "cell_type": "code",
   "execution_count": 24,
   "metadata": {},
   "outputs": [
    {
     "name": "stdout",
     "output_type": "stream",
     "text": [
      "Out of the 21 minutes the bike lane was blocked in the study period, at least one violator was parked in the loading zone for13 minutes (61 % of the time!)\n"
     ]
    },
    {
     "data": {
      "text/plain": [
       "{'block_sec': 1274.0, 'block_min': 21, 'viol_sec': 804.0, 'viol_min': 13}"
      ]
     },
     "execution_count": 24,
     "metadata": {},
     "output_type": "execute_result"
    }
   ],
   "source": [
    "times.conditional('Blocking')"
   ]
  },
  {
   "cell_type": "code",
   "execution_count": 92,
   "metadata": {},
   "outputs": [
    {
     "name": "stdout",
     "output_type": "stream",
     "text": [
      "Out of the 555 minutes that at least one violator was                     parked in the loading zone, the bike lane was blocked for 66 minutes (11 % of the time!)\n"
     ]
    },
    {
     "data": {
      "text/plain": [
       "{'block_sec': 3965.0, 'block_min': 66, 'viol_sec': 33343.0, 'viol_min': 555}"
      ]
     },
     "execution_count": 92,
     "metadata": {},
     "output_type": "execute_result"
    }
   ],
   "source": [
    "mondays.conditional('Violator')"
   ]
  },
  {
   "cell_type": "code",
   "execution_count": 25,
   "metadata": {},
   "outputs": [],
   "source": [
    "mondays = test1.subset(weekday='Monday')"
   ]
  },
  {
   "cell_type": "code",
   "execution_count": 112,
   "metadata": {},
   "outputs": [
    {
     "data": {
      "text/plain": [
       "5.866666666666666"
      ]
     },
     "execution_count": 112,
     "metadata": {},
     "output_type": "execute_result"
    }
   ],
   "source": [
    "mondays.blockers_exceed_viol()"
   ]
  },
  {
   "cell_type": "code",
   "execution_count": 80,
   "metadata": {},
   "outputs": [
    {
     "data": {
      "text/plain": [
       "{'blockers_exceed': 7.833333333333333,\n",
       " 'total_minutes': Timedelta('0 days 00:59:58')}"
      ]
     },
     "execution_count": 80,
     "metadata": {},
     "output_type": "execute_result"
    }
   ],
   "source": [
    "times.blockers_exceed_viol()"
   ]
  },
  {
   "cell_type": "code",
   "execution_count": null,
   "metadata": {},
   "outputs": [],
   "source": []
  },
  {
   "cell_type": "markdown",
   "metadata": {},
   "source": [
    "## Moving Forwards\n",
    "### short-term\n",
    "* general speed-up (see Pandas advice, for loops, cython?, weird parallel thing, etc?)\n",
    "    * Pandas 1.0 should help some too\n",
    "* loading zone ends at 10pm (done)\n",
    "* show TNC/CNS activity on plot? (done)\n",
    "* Scatter/fit line of seconds blocked+seconds any violator? (done)\n",
    "* send visual/summary package to Juan for city meeting (Google Slides) (draft 1-2wk) (drafted)\n",
    "\n",
    "### longer-term\n",
    "* rewrite to call blocking stats explicitly for each interval, support datetimeindex? (essentially done)\n",
    "* count # of cars in bike lane, compare to 1 violator, 2 violator  (done!)\n",
    "* --> model counterfactual, bike lane availability under perfect enforcement, (get sizing reccomendation, is 2 enough??, what about if there is no enforcement?? (bigger?) )\n",
    "* OpenCV (w/ David?) (working with Alberto@Strada Labs)\n",
    "* interactive visualization tool, summary stats (late Feb?) (goal of project!) (IP)\n",
    "    * input data standards for viz tool\n",
    "* eventual paper on data/stats\n",
    "* eventual tool description\n"
   ]
  }
 ],
 "metadata": {
  "kernelspec": {
   "display_name": "Python 3",
   "language": "python",
   "name": "python3"
  },
  "language_info": {
   "codemirror_mode": {
    "name": "ipython",
    "version": 3
   },
   "file_extension": ".py",
   "mimetype": "text/x-python",
   "name": "python",
   "nbconvert_exporter": "python",
   "pygments_lexer": "ipython3",
   "version": "3.8.1"
  }
 },
 "nbformat": 4,
 "nbformat_minor": 2
}
