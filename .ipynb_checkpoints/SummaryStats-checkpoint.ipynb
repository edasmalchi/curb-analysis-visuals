{
 "cells": [
  {
   "cell_type": "code",
   "execution_count": 1,
   "metadata": {},
   "outputs": [
    {
     "name": "stderr",
     "output_type": "stream",
     "text": [
      "/Users/edasmalchi/anaconda3/envs/pd1/lib/python3.8/site-packages/fastparquet/dataframe.py:5: FutureWarning: pandas.core.index is deprecated and will be removed in a future version.  The public classes are available in the top-level namespace.\n",
      "  from pandas.core.index import CategoricalIndex, RangeIndex, Index, MultiIndex\n"
     ]
    }
   ],
   "source": [
    "import numpy as np\n",
    "import pandas as pd\n",
    "import datetime as dt\n",
    "\n",
    "%matplotlib inline\n",
    "import matplotlib.pyplot as plt\n",
    "import matplotlib.dates as mdates\n",
    "import matplotlib.cbook as cbook\n",
    "from pandas.plotting import register_matplotlib_converters\n",
    "register_matplotlib_converters()\n",
    "import seaborn as sns\n",
    "\n",
    "import sys\n",
    "import operator\n",
    "\n",
    "import fastparquet\n",
    "import snappy\n",
    "\n",
    "import ipywidgets as widgets"
   ]
  },
  {
   "cell_type": "code",
   "execution_count": 2,
   "metadata": {},
   "outputs": [],
   "source": [
    " def showall(df):\n",
    "    #shows entire dataframe\n",
    "    assert df.shape[0] < 5000\n",
    "    with pd.option_context('display.max_rows', None, 'display.max_columns', None):  # more options can be specified also\n",
    "        display(df)"
   ]
  },
  {
   "cell_type": "code",
   "execution_count": 3,
   "metadata": {},
   "outputs": [],
   "source": [
    "alldays_timestamped = pd.read_parquet('TimestampToSep11new.parquet')\n",
    "alldays_timestamped.sort_index(level='Timestamp', inplace=True)"
   ]
  },
  {
   "cell_type": "code",
   "execution_count": 4,
   "metadata": {},
   "outputs": [],
   "source": [
    "format_dict = {'unrestricted spaces': ['Space 3'],\n",
    "              'location column': 'Vehicle Location',\n",
    "              'violator column': 'Violator',\n",
    "              'enf start/end': ('18:00', '22:00'),\n",
    "              }"
   ]
  },
  {
   "cell_type": "code",
   "execution_count": 10,
   "metadata": {},
   "outputs": [],
   "source": [
    "class CurbData:\n",
    "    \"\"\"Stores curb utilization data and associated functions\"\"\"\n",
    "    def __init__(self, timestamped_df, format_dict):\n",
    "        self.format = format_dict\n",
    "        self.df_all = timestamped_df\n",
    "        self.df_filtered = self.time_filter(self.df_all)\n",
    "        self.viol_counts = self.violator_timestamp_table(self.df_filtered)\n",
    "        self.blockers_exceed_viol = self.viol_counts[self.viol_counts['Blockers Less Violators'] > 0].shape[0] / 60\n",
    "        \n",
    "    def violator_timestamp_table(self, timestamped_df):\n",
    "        timestamped_df = timestamped_df[~timestamped_df.loc[\n",
    "            :, self.format['location column']].isin(self.format['unrestricted spaces'])]\n",
    "        outputdf = pd.DataFrame()\n",
    "    \n",
    "        def counts_to_df(counts_series, viol_label):\n",
    "            new_column = viol_label\n",
    "            try:\n",
    "                df = pd.DataFrame(counts_series[:, viol_label])\n",
    "                df = df.rename({self.format['violator column']: viol_label}, axis=1)\n",
    "            except:\n",
    "                print('index failed', \n",
    "                      len(mask), \n",
    "                      len(counts_series.loc[:, viol_label]))\n",
    "                print('lbl:{}, value:{}'.format(viol_label, viol_value))\n",
    "            return df\n",
    "\n",
    "        df_grouped = timestamped_df.groupby(level=0)\n",
    "        viol_counts = df_grouped[self.format['violator column']].value_counts()\n",
    "        viol_labels = timestamped_df[self.format['violator column']].unique()\n",
    "        for label in viol_labels:\n",
    "            #for value in viol_counts.loc[:,label].unique():\n",
    "            countdf = counts_to_df(counts_series=viol_counts, viol_label=label)\n",
    "            if type(countdf) == pd.core.frame.DataFrame:\n",
    "                outputdf = outputdf.join(countdf, how='outer')\n",
    "\n",
    "        violdf = outputdf[outputdf.columns[outputdf.columns.str.contains(self.format['violator column'])]].fillna(value=0)\n",
    "        blockdf = outputdf[outputdf.columns[outputdf.columns.str.contains('Blocking')]].fillna(value=0)\n",
    "        outputdf['Total Violators'] = violdf.sum(axis=1)\n",
    "        outputdf['Total Blockers'] = blockdf.sum(axis=1)\n",
    "\n",
    "        outputdf['Blockers Less Violators'] = outputdf['Total Blockers'] - outputdf['Total Violators']\n",
    "        outputdf['Any Violator'] = outputdf['Total Violators'].apply(lambda x: 1 if x > 0 else 0)\n",
    "        outputdf['Any Blocking'] = outputdf['Total Blockers'].apply(lambda x: 1 if x > 0 else 0)\n",
    "\n",
    "        return outputdf\n",
    "    \n",
    "    def time_filter(self, df):\n",
    "    #filters df to enforcement interval provided in format (as 24-hr time hh:mm)\n",
    "        \n",
    "        df.sort_index(level='Timestamp', inplace=True)\n",
    "        enf_start = self.format['enf start/end'][0].split(':')\n",
    "        after_start = df.index.time > dt.time(int(enf_start[0]), int(enf_start[1]))\n",
    "        df_after_st = df.loc[after_start]\n",
    "        enf_end = self.format['enf start/end'][1].split(':')\n",
    "        before_end = df_after_st.index.time < dt.time(int(enf_end[0]), int(enf_end[1]))\n",
    "        df_in_interval = df_after_st.loc[before_end]\n",
    "        \n",
    "        return df_in_interval\n",
    "    \n",
    "    def blk_viol_times(self, condition=None):\n",
    "        df = self.viol_counts\n",
    "        if condition == 'Blocking':\n",
    "            df = df[df['Any Blocking'] == 1]\n",
    "        elif condition == 'Violator':\n",
    "            df = df[df['Any Violator'] == 1]\n",
    "            \n",
    "        block_sec = df.sum()['Any Blocking']\n",
    "        block_min = int(block_sec / 60)\n",
    "        viol_sec = df.sum()['Any Violator']\n",
    "        viol_min = int(viol_sec / 60)\n",
    "        return {'block_sec': block_sec, 'block_min': block_min, 'viol_sec': viol_sec, 'viol_min': viol_min}\n",
    "\n",
    "    def conditional(self, condition):\n",
    "        times = self.blk_viol_times(condition=condition)\n",
    "        if condition == 'Blocking':\n",
    "            print((\"Out of the {} minutes the bike lane was blocked in the study period,\"\n",
    "                   \" at least one violator was parked in the loading zone for {} minutes ({} % of the time!)\".format(\n",
    "                       times['block_min'], times['viol_min'], \n",
    "                       int((times['viol_min']/times['block_min'])*100 ))))     \n",
    "        elif condition == 'Violator':\n",
    "            print((\"Out of the {} minutes that at least one violator was parked in the loading zone,\"\n",
    "                   \" the bike lane was blocked for {} minutes ({} % of the time!)\".format(\n",
    "                       times['viol_min'], times['block_min'], \n",
    "                       int((times['block_min']/times['viol_min'])*100 ))))\n",
    "        return times\n",
    "    \n",
    "    "
   ]
  },
  {
   "cell_type": "code",
   "execution_count": 11,
   "metadata": {},
   "outputs": [],
   "source": [
    "test1 = CurbData(alldays_timestamped, format_dict)"
   ]
  },
  {
   "cell_type": "code",
   "execution_count": 12,
   "metadata": {},
   "outputs": [
    {
     "data": {
      "text/plain": [
       "{'block_sec': 47675.0,\n",
       " 'block_min': 794,\n",
       " 'viol_sec': 272191.0,\n",
       " 'viol_min': 4536}"
      ]
     },
     "execution_count": 12,
     "metadata": {},
     "output_type": "execute_result"
    }
   ],
   "source": [
    "test1.blk_viol_times()"
   ]
  },
  {
   "cell_type": "code",
   "execution_count": 13,
   "metadata": {},
   "outputs": [
    {
     "data": {
      "text/plain": [
       "{'unrestricted spaces': ['Space 3'],\n",
       " 'location column': 'Vehicle Location',\n",
       " 'violator column': 'Violator',\n",
       " 'enf start/end': ('18:00', '22:00')}"
      ]
     },
     "execution_count": 13,
     "metadata": {},
     "output_type": "execute_result"
    }
   ],
   "source": [
    "test1.format"
   ]
  },
  {
   "cell_type": "code",
   "execution_count": 14,
   "metadata": {},
   "outputs": [
    {
     "name": "stdout",
     "output_type": "stream",
     "text": [
      "Out of the 4536 minutes that at least one violator was parked in the loading zone, the bike lane was blocked for 781 minutes (17 % of the time!)\n"
     ]
    },
    {
     "data": {
      "text/plain": [
       "{'block_sec': 46862.0,\n",
       " 'block_min': 781,\n",
       " 'viol_sec': 272191.0,\n",
       " 'viol_min': 4536}"
      ]
     },
     "execution_count": 14,
     "metadata": {},
     "output_type": "execute_result"
    }
   ],
   "source": [
    "test1.conditional('Violator')"
   ]
  },
  {
   "cell_type": "code",
   "execution_count": 15,
   "metadata": {},
   "outputs": [
    {
     "data": {
      "text/plain": [
       "27.433333333333334"
      ]
     },
     "execution_count": 15,
     "metadata": {},
     "output_type": "execute_result"
    }
   ],
   "source": [
    "test1.blockers_exceed_viol"
   ]
  },
  {
   "cell_type": "code",
   "execution_count": 17,
   "metadata": {},
   "outputs": [
    {
     "data": {
      "text/plain": [
       "Timedelta('20 days 03:59:58')"
      ]
     },
     "execution_count": 17,
     "metadata": {},
     "output_type": "execute_result"
    }
   ],
   "source": [
    "test1.df_filtered.index[-1] - test1.df_filtered.index[0]"
   ]
  },
  {
   "cell_type": "code",
   "execution_count": null,
   "metadata": {},
   "outputs": [],
   "source": [
    "##consider dropping the subclass and just using a method to filter from CurbData!\n",
    "##.    can chain: curbdata.subset('Tuesday').aggregate_activities(by='hour'), or reassign ofc\n",
    "##speed this up if it always builds from a CurbData object?\n",
    "##or do we need to keep build from df functionality?\n",
    "class SubsetCurbData(CurbData):\n",
    "    def __init__(self, timestamped_df, format_dict, subset):\n",
    "        super().__init__(self, timestamped_df, format_dict)\n",
    "        self.df_subset = self.subset_df(subset)\n",
    "        self.oneday_dfs = []\n",
    "    \n",
    "    def subset_df(self, subset):\n",
    "        def from_weekday(weekday):\n",
    "            '''returns df_subset of all matching weekday\n",
    "            (or, weekdays and weekends)\n",
    "            also, appends each single day df to self.oneday_dfs\n",
    "            '''\n",
    "        def from_timestamps(timestamps):\n",
    "            '''simply returns df_subset between two timestamps\n",
    "            opt, if needed split single days if we accept\n",
    "            input > 1day...\n",
    "            '''\n",
    "    \n",
    "    def aggregate_activities(self, by=None):\n",
    "        assert by == None or 'day' or 'hour'\n",
    "        '''return counts and total time for each type of activity in filter interval\n",
    "        also pct blocking, pct viol presence \n",
    "        '''"
   ]
  },
  {
   "cell_type": "markdown",
   "metadata": {},
   "source": [
    "## keep on truckin'!\n",
    "* fully abstract all functions, include in class\n",
    "* write better, more intuitive stats summary functions\n",
    "* write documentation/utility/guesser to provide format info\n",
    "* class-based plotting system\n",
    "* ???\n",
    "* profit"
   ]
  },
  {
   "cell_type": "code",
   "execution_count": null,
   "metadata": {},
   "outputs": [],
   "source": [
    "def lz_total_time(lz_onlydf):\n",
    "    #returns seconds of loading zone time contained in filtered dataframe\n",
    "    assert max(lz_onlydf.index).hour < 22 and min(lz_onlydf.index).hour > 6\n",
    "    seconds = 0\n",
    "    dates = lz_onlydf.index.strftime('%m%d%Y').unique()\n",
    "    for date in dates:\n",
    "        index = lz_onlydf[lz_onlydf.index.strftime('%m%d%Y') == date].index\n",
    "        td = max(index) - min(index)\n",
    "        seconds += td.seconds\n",
    "    return seconds"
   ]
  },
  {
   "cell_type": "code",
   "execution_count": null,
   "metadata": {},
   "outputs": [],
   "source": [
    "##recheck -- can be greatly simplified with new format?\n",
    "##TODO allow split on hour-- better graph?\n",
    "def stats_from_df(df, lzonly=True, split_on='dates'):\n",
    "    if lzonly:\n",
    "        df = time_filter(df)\n",
    "        df = time_filter(df, hour=22, opr='<')\n",
    "        \n",
    "    viol_df = violator_timestamp_table(df)\n",
    "    if split_on == 'dates':\n",
    "        dt_string = '%m%d%Y'\n",
    "    elif split_on == 'hours':\n",
    "        dt_string = '%m%d%Y%H'\n",
    "        \n",
    "    dates = viol_df.index.strftime(dt_string).unique()\n",
    "    for date in dates:\n",
    "        one_viol_df = viol_df[viol_df.index.strftime(dt_string) == date]\n",
    "\n",
    "        print(min(one_viol_df.index), '–', max(one_viol_df.index))\n",
    "        block_sec = one_viol_df.sum()['Any Blocking']\n",
    "        viol_sec = one_viol_df.sum()['Any Violator']\n",
    "        total_sec = lz_total_time(one_viol_df)\n",
    "        one_df = pd.DataFrame([[viol_sec, block_sec, total_sec]], \n",
    "                              index = [dt.datetime.strptime(date, dt_string)],\n",
    "                             columns = ['Seconds Violator Present', 'Seconds Bike Lane Blocked', 'Total Seconds'])\n",
    "        try:\n",
    "            output_df = output_df.append(one_df)\n",
    "        except UnboundLocalError:\n",
    "            output_df = one_df\n",
    "\n",
    "    output_df['Minutes Violator Present'] = output_df['Seconds Violator Present'] / 60\n",
    "    output_df['Minutes Bike Lane Blocked'] = output_df['Seconds Bike Lane Blocked'] / 60\n",
    "    \n",
    "    return output_df\n",
    "    "
   ]
  },
  {
   "cell_type": "code",
   "execution_count": null,
   "metadata": {},
   "outputs": [],
   "source": [
    "bigstats = stats_from_df(alldays_timestamped, split_on='dates')"
   ]
  },
  {
   "cell_type": "code",
   "execution_count": null,
   "metadata": {
    "scrolled": true
   },
   "outputs": [],
   "source": [
    "bigstats.shape"
   ]
  },
  {
   "cell_type": "code",
   "execution_count": null,
   "metadata": {},
   "outputs": [],
   "source": [
    "bigstats"
   ]
  },
  {
   "cell_type": "code",
   "execution_count": null,
   "metadata": {},
   "outputs": [],
   "source": [
    "##TODO color day of study, see if compliance improved at all over time?\n",
    "sns.set()\n",
    "sns.regplot(x='Minutes Violator Present', y='Minutes Bike Lane Blocked', data = bigstats, \n",
    "          ci=95)\n",
    "plt.savefig(\n",
    "    'Figures/scatter.png', dpi=600, format=\"png\", bbox_inches='tight')"
   ]
  },
  {
   "cell_type": "code",
   "execution_count": null,
   "metadata": {},
   "outputs": [],
   "source": [
    "bigstats_reindexed = bigstats.reset_index()"
   ]
  },
  {
   "cell_type": "code",
   "execution_count": null,
   "metadata": {},
   "outputs": [],
   "source": [
    "ax = sns.scatterplot(x='index', y='Minutes Bike Lane Blocked', data = bigstats_reindexed, \n",
    "          ci=95)\n",
    "start = min(bigstats_reindexed['index']).to_pydatetime()\n",
    "end = max(bigstats_reindexed['index']).to_pydatetime()\n",
    "ax.set_xlim([start, end])\n",
    "fig, ax = plt.subplots()\n",
    "ax.xaxis_date()\n",
    "ax.xaxis.set_major_formatter(mdates.DateFormatter('%-I:%M %p'))\n",
    "fig.autofmt_xdate()\n",
    "plt.show()"
   ]
  },
  {
   "cell_type": "code",
   "execution_count": null,
   "metadata": {},
   "outputs": [],
   "source": [
    "ax"
   ]
  },
  {
   "cell_type": "markdown",
   "metadata": {},
   "source": [
    "## Moving Forwards\n",
    "### short-term\n",
    "* general speed-up (see Pandas advice, for loops, cython?, weird parallel thing, etc?)\n",
    "    * Pandas 1.0 should help some too\n",
    "* loading zone ends at 10pm (done)\n",
    "* show TNC/CNS activity on plot? (done)\n",
    "* Scatter/fit line of seconds blocked+seconds any violator? (done)\n",
    "* send visual/summary package to Juan for city meeting (Google Slides) (draft 1-2wk) (drafted)\n",
    "\n",
    "### longer-term\n",
    "* rewrite to call blocking stats explicitly for each interval, support datetimeindex? (essentially done)\n",
    "* count # of cars in bike lane, compare to 1 violator, 2 violator  (done!)\n",
    "* --> model counterfactual, bike lane availability under perfect enforcement, (get sizing reccomendation, is 2 enough??, what about if there is no enforcement?? (bigger?) )\n",
    "* OpenCV (w/ David?) (working with Alberto@Strada Labs)\n",
    "* interactive visualization tool, summary stats (late Feb?) (goal of project!) (IP)\n",
    "    * input data standards for viz tool\n",
    "* eventual paper on data/stats\n",
    "* eventual tool description\n"
   ]
  },
  {
   "cell_type": "code",
   "execution_count": null,
   "metadata": {},
   "outputs": [],
   "source": [
    "alldays_timestamped.head()"
   ]
  },
  {
   "cell_type": "code",
   "execution_count": null,
   "metadata": {},
   "outputs": [],
   "source": []
  }
 ],
 "metadata": {
  "kernelspec": {
   "display_name": "Python 3",
   "language": "python",
   "name": "python3"
  },
  "language_info": {
   "codemirror_mode": {
    "name": "ipython",
    "version": 3
   },
   "file_extension": ".py",
   "mimetype": "text/x-python",
   "name": "python",
   "nbconvert_exporter": "python",
   "pygments_lexer": "ipython3",
   "version": "3.8.1"
  }
 },
 "nbformat": 4,
 "nbformat_minor": 2
}
