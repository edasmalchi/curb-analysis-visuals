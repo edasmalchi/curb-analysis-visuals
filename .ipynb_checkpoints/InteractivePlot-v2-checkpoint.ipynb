{
 "cells": [
  {
   "cell_type": "markdown",
   "metadata": {},
   "source": [
    "## Interactive Plot for Santa Monica Curb Data\n",
    "\n",
    "This notebook, built on seaborn and ipython widgets, allows the user to specify times of interest in the Santa Monica curb data and generate plots in near real-time. It also provides an option to download the underlying data. Initial loading time is about 30 seconds, please be patient!\n",
    "\n",
    "### Usage Notes\n",
    "* The download option is currently a toggle. If a download option other than \"None\" is selected, it will generate a download each time you move the time slider.\n",
    "* Vehicle information in the header is in decending order by duration."
   ]
  },
  {
   "cell_type": "code",
   "execution_count": 1,
   "metadata": {},
   "outputs": [
    {
     "name": "stderr",
     "output_type": "stream",
     "text": [
      "/Users/edasmalchi/anaconda3/envs/pd1/lib/python3.8/site-packages/fastparquet/dataframe.py:5: FutureWarning: pandas.core.index is deprecated and will be removed in a future version.  The public classes are available in the top-level namespace.\n",
      "  from pandas.core.index import CategoricalIndex, RangeIndex, Index, MultiIndex\n"
     ]
    }
   ],
   "source": [
    "##Run this cell to import libraries required by the rest of the notebook\n",
    "\n",
    "import numpy as np\n",
    "import pandas as pd\n",
    "import datetime as dt\n",
    "\n",
    "%matplotlib inline\n",
    "import matplotlib.pyplot as plt\n",
    "import matplotlib.dates as mdates\n",
    "import matplotlib.cbook as cbook\n",
    "from pandas.plotting import register_matplotlib_converters\n",
    "register_matplotlib_converters()\n",
    "import seaborn as sns\n",
    "\n",
    "import sys\n",
    "import operator\n",
    "import time\n",
    "import importlib\n",
    "\n",
    "import fastparquet\n",
    "import snappy\n",
    "\n",
    "import ipywidgets as widgets\n",
    "from ipywidgets import interact, interactive, fixed, interact_manual\n",
    "from IPython.display import Javascript\n",
    "\n",
    "import curbdata as cd"
   ]
  },
  {
   "cell_type": "code",
   "execution_count": 2,
   "metadata": {},
   "outputs": [],
   "source": [
    "## This cell reads in the source data\n",
    "\n",
    "alldays_timestamped = pd.read_parquet('TimestampToSep11new.parquet')\n",
    "alldays_timestamped.sort_index(level='Timestamp', inplace=True)\n",
    "#alldays_timestamped = alldays_timestamped.dropna(subset=['Duration'])"
   ]
  },
  {
   "cell_type": "code",
   "execution_count": 27,
   "metadata": {},
   "outputs": [],
   "source": [
    "format_dict = {'unrestricted spaces': ['Space 3'],\n",
    "              'location column': 'Vehicle Location',\n",
    "              'violator column': 'Violator',\n",
    "              'enf start/end': ('18:00', '22:00'),\n",
    "              }\n",
    "importlib.reload(cd);\n",
    "sm_curb = cd.CurbData(alldays_timestamped, format_dict)"
   ]
  },
  {
   "cell_type": "code",
   "execution_count": 28,
   "metadata": {},
   "outputs": [],
   "source": [
    "##This cell defines the plotting functions\n",
    "\n",
    "def showall(df):\n",
    "    \"\"\"shows entire dataframe\"\"\"\n",
    "    assert df.shape[0] < 5000\n",
    "    with pd.option_context('display.max_rows', None, 'display.max_columns', None):  # more options can be specified also\n",
    "        display(df)\n",
    "\n",
    "def make_plot(df, palette, save):\n",
    "    \"\"\"Using a modified seaborn strip plot, plots space occupancy and bike lane blocking using the\n",
    "    specified color palette. \n",
    "    \"\"\"\n",
    "    #return int for size based on plot duration\n",
    "    def dynamic(duration_min):\n",
    "        if duration_min < 2:\n",
    "            return 7\n",
    "        elif duration_min < 5:\n",
    "            return 6\n",
    "        elif duration_min < 15:\n",
    "            return 5\n",
    "        elif duration_min < 60:\n",
    "            return 3\n",
    "        else:\n",
    "            return 2\n",
    "    #suppress Pandas view vs copy warning (seems to work ok here)\n",
    "    with pd.option_context('mode.chained_assignment', None):\n",
    "        #remove locations besides spc 1-3, bike lane\n",
    "        filtered_df = df[~df['Vehicle Location'].isin(['SB travel lane', \n",
    "                                                        'NB right turn pocket', 'Both/Middle of Space 1 & 2'])]\n",
    "        #order locations\n",
    "        filtered_df.sort_values(by=['Vehicle Location'], inplace=True)\n",
    "        #create time column from index for x-axis, assign enforcement start/end times\n",
    "        filtered_df['Time'] = filtered_df.index\n",
    "        start = min(filtered_df.index).to_pydatetime()\n",
    "        end = max(filtered_df.index).to_pydatetime()\n",
    "        duration = ((end - start).seconds) / 60\n",
    "        enf_start = start.replace(hour=18, minute=0)\n",
    "        enf_end = start.replace(hour=22, minute=0)\n",
    "        \n",
    "        fig, ax = plt.subplots()\n",
    "        #plot using Seaborn strip plot, set x-axis range, add line at enforcement start/end time\n",
    "        #hue based on 'Violator' values, which include TNC/CNS status \n",
    "        ax = sns.stripplot(x=\"Time\", y=\"Vehicle Location\", hue='Violator', palette=palette, data=filtered_df,\n",
    "                           size = dynamic(duration), jitter=False)\n",
    "        ax.set_xlim([start, end])\n",
    "        ax.axvline(enf_start, label='Loading Zone Start', c='r')\n",
    "        ax.axvline(enf_end, label='Loading Zone End', c='b')\n",
    "        #move legend\n",
    "        ax.legend(bbox_to_anchor=(1.05, 1), loc=2, borderaxespad=0.)\n",
    "        #title plot with date\n",
    "        ax.set_title(filtered_df['Begin Date'][0])\n",
    "        #format times on x-axis to readable '9:30PM' format\n",
    "        ax.xaxis.set_major_formatter(mdates.DateFormatter('%-I:%M %p'))\n",
    "        fig.autofmt_xdate()\n",
    "        #Save to figures folder with start/end times in filename\n",
    "        if save:\n",
    "            plt.savefig('Figures/{}–{}.png'.format(start, end), dpi=600, format=\"png\", bbox_inches='tight')\n",
    "        plt.show()\n",
    "        return ax\n",
    "\n",
    "def plot(df, allday_df=alldays_timestamped, save=False):\n",
    "    \"\"\"top-level plot function, sets style and color palette\"\"\"\n",
    "    sns.set_style('white')\n",
    "    #get/sort unique Violator types\n",
    "    unique = allday_df['Violator'].unique()\n",
    "    unique.sort()\n",
    "    #colors from xkcd colors https://xkcd.com/color/rgb/ \n",
    "    colors = ['black', 'scarlet', 'light red', \n",
    "              'olive green', 'grass green', 'mint', \n",
    "              'brick red', 'dark orange', 'pumpkin']\n",
    "    #zip Violator types to color values\n",
    "    palette = dict(zip(unique, sns.xkcd_palette(colors)))\n",
    "    #call to make actual plot\n",
    "    fig = make_plot(df, palette, save)\n",
    "    return"
   ]
  },
  {
   "cell_type": "code",
   "execution_count": 29,
   "metadata": {},
   "outputs": [],
   "source": [
    "def download_df(df):\n",
    "    \"\"\"Generates downloadable CSV from input df\n",
    "    Total copy/paste job from \n",
    "    https://stackoverflow.com/questions/31893930/download-csv-from-an-ipython-notebook\n",
    "    Javascript allows for client-side CSV generation, avoids creating server-side CSV\n",
    "    for each request\n",
    "    Tends to generate two duplicate downloads on Firefox, but one on Safari. Have yet \n",
    "    to test with Chrome. Likely ipython/Jupyter/browser quirk. \n",
    "    \"\"\"\n",
    "    from IPython.display import Javascript\n",
    "    js_download = \"\"\"\n",
    "    var csv = '%s';\n",
    "\n",
    "    var filename = 'CurbDataExport.csv';\n",
    "    var blob = new Blob([csv], { type: 'text/csv;charset=utf-8;' });\n",
    "    if (navigator.msSaveBlob) { // IE 10+\n",
    "        navigator.msSaveBlob(blob, filename);\n",
    "    } else {\n",
    "        var link = document.createElement(\"a\");\n",
    "        if (link.download !== undefined) { // feature detection\n",
    "            // Browsers that support HTML5 download attribute\n",
    "            var url = URL.createObjectURL(blob);\n",
    "            link.setAttribute(\"href\", url);\n",
    "            link.setAttribute(\"download\", filename);\n",
    "            link.style.visibility = 'hidden';\n",
    "            document.body.appendChild(link);\n",
    "            link.click();\n",
    "            document.body.removeChild(link);\n",
    "        }\n",
    "    }\n",
    "    \"\"\" % df.to_csv(index=False).replace('\\n','\\\\n').replace(\"'\",\"\\'\")\n",
    "#     time.sleep(.5)\n",
    "    return Javascript(js_download)"
   ]
  },
  {
   "cell_type": "code",
   "execution_count": 30,
   "metadata": {},
   "outputs": [],
   "source": [
    "##This cell wraps the plot function to be used with interact\n",
    "##It also adds functionality for time range selection and download generation\n",
    "\n",
    "#create widgets for interact\n",
    "time_widget = widgets.SelectionRangeSlider(options=[0], continuous_update=False, layout={'width': '400px'})\n",
    "date_widget = widgets.Dropdown(options=alldays_timestamped['Begin Date'].unique())\n",
    "download_widget = widgets.ToggleButtons(\n",
    "    options=['None', 'Summary Only', 'Detailed'],\n",
    "    description='Generate Download?',\n",
    "    disabled=False,\n",
    "    button_style='', # 'success', 'info', 'warning', 'danger' or ''\n",
    "    tooltips=['Will not generate export CSV', \n",
    "              'Generates export CSV with level of detail same as displayed summary',\n",
    "              'Generates export CSV with full detail'],\n",
    "    style=dict(description_width='initial')\n",
    "#     icons=['check'] * 3\n",
    ")\n",
    "\n",
    "def update(*args):\n",
    "    \"\"\"allows date selection to define time selection range\"\"\"\n",
    "    index = alldays_timestamped[alldays_timestamped['Begin Date'] == date_widget.value].index\n",
    "    minutes = index.strftime('%I:%M%p').unique()\n",
    "    time_widget.options = minutes\n",
    "date_widget.observe(update)\n",
    "\n",
    "def iplot(date, times, curbdata, download):\n",
    "    \"\"\"Interactive wrapper for plot function\"\"\"\n",
    "    str_times = ['_'.join([date, time]) for time in times]\n",
    "    timestamps = [dt.datetime.strptime(str_time, '%m/%d/%Y_%I:%M%p') for str_time in str_times]\n",
    "    print(timestamps)\n",
    "    cd_subset = curbdata.subset(timestamps = timestamps)\n",
    "    \n",
    "    plot(cd_subset.df_filtered)\n",
    "    \n",
    "    #generate download, if requested\n",
    "    if download == 'Selection Only':\n",
    "        to_download = curbdata.df_filtered.drop_duplicates().sort_values(by='Begin Time')\n",
    "    elif download == 'All Data':\n",
    "        to_download = curbdata.df_all.drop_duplicates().sort_values(by='Begin Time')\n",
    "    if not download == 'None':\n",
    "        display(download_df(to_download))\n",
    "        \n",
    "    return"
   ]
  },
  {
   "cell_type": "code",
   "execution_count": 31,
   "metadata": {
    "scrolled": false
   },
   "outputs": [
    {
     "data": {
      "application/vnd.jupyter.widget-view+json": {
       "model_id": "73193981abe74689a6a926954a0b2e2c",
       "version_major": 2,
       "version_minor": 0
      },
      "text/plain": [
       "interactive(children=(Dropdown(description='date', options=('08/21/2019', '08/22/2019', '08/23/2019', '08/24/2…"
      ]
     },
     "metadata": {},
     "output_type": "display_data"
    }
   ],
   "source": [
    "##After running all cells above, run this cell to start the interactive visualization!\n",
    "interact(iplot, date = date_widget, times = time_widget, \n",
    "         curbdata = fixed(sm_curb), download = download_widget,);"
   ]
  },
  {
   "cell_type": "code",
   "execution_count": 67,
   "metadata": {},
   "outputs": [
    {
     "data": {
      "text/plain": [
       "'08/22/2019'"
      ]
     },
     "execution_count": 67,
     "metadata": {},
     "output_type": "execute_result"
    }
   ],
   "source": [
    "date_widget.value"
   ]
  },
  {
   "cell_type": "code",
   "execution_count": 8,
   "metadata": {},
   "outputs": [
    {
     "data": {
      "text/plain": [
       "()"
      ]
     },
     "execution_count": 8,
     "metadata": {},
     "output_type": "execute_result"
    }
   ],
   "source": [
    "time_widget.value"
   ]
  },
  {
   "cell_type": "code",
   "execution_count": 11,
   "metadata": {},
   "outputs": [
    {
     "data": {
      "text/plain": [
       "0"
      ]
     },
     "execution_count": 11,
     "metadata": {},
     "output_type": "execute_result"
    }
   ],
   "source": [
    "len([])"
   ]
  },
  {
   "cell_type": "code",
   "execution_count": 21,
   "metadata": {},
   "outputs": [
    {
     "data": {
      "text/plain": [
       "False"
      ]
     },
     "execution_count": 21,
     "metadata": {},
     "output_type": "execute_result"
    }
   ],
   "source": [
    "bool([])"
   ]
  },
  {
   "cell_type": "code",
   "execution_count": null,
   "metadata": {},
   "outputs": [],
   "source": [
    "for time in time_widget.value:\n",
    "    #print(time)\n",
    "    print('_'.join([date_widget.value, time]))"
   ]
  },
  {
   "cell_type": "code",
   "execution_count": 65,
   "metadata": {},
   "outputs": [],
   "source": [
    "str_times = ['_'.join([date_widget.value, time]) for time in time_widget.value]\n",
    "timestamps = [dt.datetime.strptime(str_time, '%m/%d/%Y_%I:%M%p') for str_time in str_times]"
   ]
  },
  {
   "cell_type": "code",
   "execution_count": 69,
   "metadata": {},
   "outputs": [
    {
     "data": {
      "text/plain": [
       "[datetime.datetime(2019, 8, 22, 13, 37),\n",
       " datetime.datetime(2019, 8, 22, 17, 15)]"
      ]
     },
     "execution_count": 69,
     "metadata": {},
     "output_type": "execute_result"
    }
   ],
   "source": [
    "timestamps"
   ]
  },
  {
   "cell_type": "code",
   "execution_count": 71,
   "metadata": {},
   "outputs": [
    {
     "ename": "IndexError",
     "evalue": "boolean index did not match indexed array along dimension 0; dimension is 0 but corresponding boolean dimension is 1",
     "output_type": "error",
     "traceback": [
      "\u001b[0;31m---------------------------------------------------------------------------\u001b[0m",
      "\u001b[0;31mIndexError\u001b[0m                                Traceback (most recent call last)",
      "\u001b[0;32m<ipython-input-71-7e580d8b7ecb>\u001b[0m in \u001b[0;36m<module>\u001b[0;34m\u001b[0m\n\u001b[0;32m----> 1\u001b[0;31m \u001b[0msubset\u001b[0m \u001b[0;34m=\u001b[0m \u001b[0msm_curb\u001b[0m\u001b[0;34m.\u001b[0m\u001b[0msubset\u001b[0m\u001b[0;34m(\u001b[0m\u001b[0mtimestamps\u001b[0m \u001b[0;34m=\u001b[0m \u001b[0mtimestamps\u001b[0m\u001b[0;34m)\u001b[0m\u001b[0;34m\u001b[0m\u001b[0;34m\u001b[0m\u001b[0m\n\u001b[0m",
      "\u001b[0;32m~/Documents/GitHub/curb-analysis-visuals/curbdata.py\u001b[0m in \u001b[0;36msubset\u001b[0;34m(self, weekday, timestamps, inplace)\u001b[0m\n\u001b[1;32m    156\u001b[0m             \u001b[0;32mreturn\u001b[0m \u001b[0msubset\u001b[0m\u001b[0;34m\u001b[0m\u001b[0;34m\u001b[0m\u001b[0m\n\u001b[1;32m    157\u001b[0m         \u001b[0;32melse\u001b[0m\u001b[0;34m:\u001b[0m\u001b[0;34m\u001b[0m\u001b[0;34m\u001b[0m\u001b[0m\n\u001b[0;32m--> 158\u001b[0;31m             \u001b[0mprint\u001b[0m\u001b[0;34m(\u001b[0m\u001b[0;34m'inplace true'\u001b[0m\u001b[0;34m)\u001b[0m\u001b[0;34m\u001b[0m\u001b[0;34m\u001b[0m\u001b[0m\n\u001b[0m\u001b[1;32m    159\u001b[0m             \u001b[0mself\u001b[0m\u001b[0;34m.\u001b[0m\u001b[0mdf_filtered\u001b[0m \u001b[0;34m=\u001b[0m \u001b[0mdf_subset\u001b[0m\u001b[0;34m\u001b[0m\u001b[0;34m\u001b[0m\u001b[0m\n\u001b[1;32m    160\u001b[0m             \u001b[0;32mreturn\u001b[0m\u001b[0;34m\u001b[0m\u001b[0;34m\u001b[0m\u001b[0m\n",
      "\u001b[0;32m~/Documents/GitHub/curb-analysis-visuals/curbdata.py\u001b[0m in \u001b[0;36mupdate\u001b[0;34m(self)\u001b[0m\n\u001b[1;32m     29\u001b[0m         \u001b[0moutputdf\u001b[0m \u001b[0;34m=\u001b[0m \u001b[0mpd\u001b[0m\u001b[0;34m.\u001b[0m\u001b[0mDataFrame\u001b[0m\u001b[0;34m(\u001b[0m\u001b[0;34m)\u001b[0m\u001b[0;34m\u001b[0m\u001b[0;34m\u001b[0m\u001b[0m\n\u001b[1;32m     30\u001b[0m \u001b[0;34m\u001b[0m\u001b[0m\n\u001b[0;32m---> 31\u001b[0;31m         \u001b[0;32mdef\u001b[0m \u001b[0mcounts_to_df\u001b[0m\u001b[0;34m(\u001b[0m\u001b[0mcounts_series\u001b[0m\u001b[0;34m,\u001b[0m \u001b[0mviol_label\u001b[0m\u001b[0;34m)\u001b[0m\u001b[0;34m:\u001b[0m\u001b[0;34m\u001b[0m\u001b[0;34m\u001b[0m\u001b[0m\n\u001b[0m\u001b[1;32m     32\u001b[0m             \u001b[0mnew_column\u001b[0m \u001b[0;34m=\u001b[0m \u001b[0mviol_label\u001b[0m\u001b[0;34m\u001b[0m\u001b[0;34m\u001b[0m\u001b[0m\n\u001b[1;32m     33\u001b[0m             \u001b[0;32mtry\u001b[0m\u001b[0;34m:\u001b[0m\u001b[0;34m\u001b[0m\u001b[0;34m\u001b[0m\u001b[0m\n",
      "\u001b[0;32m~/Documents/GitHub/curb-analysis-visuals/curbdata.py\u001b[0m in \u001b[0;36mviolator_timestamp_table\u001b[0;34m(self, timestamped_df)\u001b[0m\n\u001b[1;32m     51\u001b[0m         violdf = outputdf[outputdf.columns[outputdf.columns.str.contains(\n\u001b[1;32m     52\u001b[0m             self.format['violator column'])]].fillna(value=0)\n\u001b[0;32m---> 53\u001b[0;31m         blockdf = outputdf[outputdf.columns[outputdf.columns.str.contains(\n\u001b[0m\u001b[1;32m     54\u001b[0m             'Blocking')]].fillna(value=0)\n\u001b[1;32m     55\u001b[0m         \u001b[0moutputdf\u001b[0m\u001b[0;34m[\u001b[0m\u001b[0;34m'Total Violators'\u001b[0m\u001b[0;34m]\u001b[0m \u001b[0;34m=\u001b[0m \u001b[0mvioldf\u001b[0m\u001b[0;34m.\u001b[0m\u001b[0msum\u001b[0m\u001b[0;34m(\u001b[0m\u001b[0maxis\u001b[0m\u001b[0;34m=\u001b[0m\u001b[0;36m1\u001b[0m\u001b[0;34m)\u001b[0m\u001b[0;34m\u001b[0m\u001b[0;34m\u001b[0m\u001b[0m\n",
      "\u001b[0;32m~/anaconda3/envs/pd1/lib/python3.8/site-packages/pandas/core/groupby/generic.py\u001b[0m in \u001b[0;36mvalue_counts\u001b[0;34m(self, normalize, sort, ascending, bins, dropna)\u001b[0m\n\u001b[1;32m    706\u001b[0m         \u001b[0;31m# multi-index components\u001b[0m\u001b[0;34m\u001b[0m\u001b[0;34m\u001b[0m\u001b[0;34m\u001b[0m\u001b[0m\n\u001b[1;32m    707\u001b[0m         \u001b[0mcodes\u001b[0m \u001b[0;34m=\u001b[0m \u001b[0mself\u001b[0m\u001b[0;34m.\u001b[0m\u001b[0mgrouper\u001b[0m\u001b[0;34m.\u001b[0m\u001b[0mreconstructed_codes\u001b[0m\u001b[0;34m\u001b[0m\u001b[0;34m\u001b[0m\u001b[0m\n\u001b[0;32m--> 708\u001b[0;31m         \u001b[0mcodes\u001b[0m \u001b[0;34m=\u001b[0m \u001b[0;34m[\u001b[0m\u001b[0mrep\u001b[0m\u001b[0;34m(\u001b[0m\u001b[0mlevel_codes\u001b[0m\u001b[0;34m)\u001b[0m \u001b[0;32mfor\u001b[0m \u001b[0mlevel_codes\u001b[0m \u001b[0;32min\u001b[0m \u001b[0mcodes\u001b[0m\u001b[0;34m]\u001b[0m \u001b[0;34m+\u001b[0m \u001b[0;34m[\u001b[0m\u001b[0mllab\u001b[0m\u001b[0;34m(\u001b[0m\u001b[0mlab\u001b[0m\u001b[0;34m,\u001b[0m \u001b[0minc\u001b[0m\u001b[0;34m)\u001b[0m\u001b[0;34m]\u001b[0m\u001b[0;34m\u001b[0m\u001b[0;34m\u001b[0m\u001b[0m\n\u001b[0m\u001b[1;32m    709\u001b[0m         \u001b[0mlevels\u001b[0m \u001b[0;34m=\u001b[0m \u001b[0;34m[\u001b[0m\u001b[0mping\u001b[0m\u001b[0;34m.\u001b[0m\u001b[0mgroup_index\u001b[0m \u001b[0;32mfor\u001b[0m \u001b[0mping\u001b[0m \u001b[0;32min\u001b[0m \u001b[0mself\u001b[0m\u001b[0;34m.\u001b[0m\u001b[0mgrouper\u001b[0m\u001b[0;34m.\u001b[0m\u001b[0mgroupings\u001b[0m\u001b[0;34m]\u001b[0m \u001b[0;34m+\u001b[0m \u001b[0;34m[\u001b[0m\u001b[0mlev\u001b[0m\u001b[0;34m]\u001b[0m\u001b[0;34m\u001b[0m\u001b[0;34m\u001b[0m\u001b[0m\n\u001b[1;32m    710\u001b[0m         \u001b[0mnames\u001b[0m \u001b[0;34m=\u001b[0m \u001b[0mself\u001b[0m\u001b[0;34m.\u001b[0m\u001b[0mgrouper\u001b[0m\u001b[0;34m.\u001b[0m\u001b[0mnames\u001b[0m \u001b[0;34m+\u001b[0m \u001b[0;34m[\u001b[0m\u001b[0mself\u001b[0m\u001b[0;34m.\u001b[0m\u001b[0m_selection_name\u001b[0m\u001b[0;34m]\u001b[0m\u001b[0;34m\u001b[0m\u001b[0;34m\u001b[0m\u001b[0m\n",
      "\u001b[0;32m~/anaconda3/envs/pd1/lib/python3.8/site-packages/pandas/core/groupby/generic.py\u001b[0m in \u001b[0;36m<lambda>\u001b[0;34m(lab, inc)\u001b[0m\n\u001b[1;32m    675\u001b[0m         \u001b[0;32mif\u001b[0m \u001b[0mbins\u001b[0m \u001b[0;32mis\u001b[0m \u001b[0;32mNone\u001b[0m\u001b[0;34m:\u001b[0m\u001b[0;34m\u001b[0m\u001b[0;34m\u001b[0m\u001b[0m\n\u001b[1;32m    676\u001b[0m             \u001b[0mlab\u001b[0m\u001b[0;34m,\u001b[0m \u001b[0mlev\u001b[0m \u001b[0;34m=\u001b[0m \u001b[0malgorithms\u001b[0m\u001b[0;34m.\u001b[0m\u001b[0mfactorize\u001b[0m\u001b[0;34m(\u001b[0m\u001b[0mval\u001b[0m\u001b[0;34m,\u001b[0m \u001b[0msort\u001b[0m\u001b[0;34m=\u001b[0m\u001b[0;32mTrue\u001b[0m\u001b[0;34m)\u001b[0m\u001b[0;34m\u001b[0m\u001b[0;34m\u001b[0m\u001b[0m\n\u001b[0;32m--> 677\u001b[0;31m             \u001b[0mllab\u001b[0m \u001b[0;34m=\u001b[0m \u001b[0;32mlambda\u001b[0m \u001b[0mlab\u001b[0m\u001b[0;34m,\u001b[0m \u001b[0minc\u001b[0m\u001b[0;34m:\u001b[0m \u001b[0mlab\u001b[0m\u001b[0;34m[\u001b[0m\u001b[0minc\u001b[0m\u001b[0;34m]\u001b[0m\u001b[0;34m\u001b[0m\u001b[0;34m\u001b[0m\u001b[0m\n\u001b[0m\u001b[1;32m    678\u001b[0m         \u001b[0;32melse\u001b[0m\u001b[0;34m:\u001b[0m\u001b[0;34m\u001b[0m\u001b[0;34m\u001b[0m\u001b[0m\n\u001b[1;32m    679\u001b[0m \u001b[0;34m\u001b[0m\u001b[0m\n",
      "\u001b[0;31mIndexError\u001b[0m: boolean index did not match indexed array along dimension 0; dimension is 0 but corresponding boolean dimension is 1"
     ]
    }
   ],
   "source": [
    "subset = sm_curb.subset(timestamps = timestamps)"
   ]
  },
  {
   "cell_type": "code",
   "execution_count": 73,
   "metadata": {},
   "outputs": [
    {
     "data": {
      "text/plain": [
       "'CurbData'"
      ]
     },
     "execution_count": 73,
     "metadata": {},
     "output_type": "execute_result"
    }
   ],
   "source": [
    "cd.CurbData.__name__"
   ]
  },
  {
   "cell_type": "code",
   "execution_count": null,
   "metadata": {},
   "outputs": [],
   "source": [
    "len(time_widget.value)"
   ]
  },
  {
   "cell_type": "code",
   "execution_count": null,
   "metadata": {},
   "outputs": [],
   "source": [
    "sm_curb.df_filtered.index"
   ]
  },
  {
   "cell_type": "code",
   "execution_count": 29,
   "metadata": {},
   "outputs": [],
   "source": [
    "def huh(x):\n",
    "    if x != 4:\n",
    "        raise Exception('huh')"
   ]
  },
  {
   "cell_type": "code",
   "execution_count": 30,
   "metadata": {},
   "outputs": [
    {
     "ename": "Exception",
     "evalue": "huh",
     "output_type": "error",
     "traceback": [
      "\u001b[0;31m---------------------------------------------------------------------------\u001b[0m",
      "\u001b[0;31mException\u001b[0m                                 Traceback (most recent call last)",
      "\u001b[0;32m<ipython-input-30-b72a2636195d>\u001b[0m in \u001b[0;36m<module>\u001b[0;34m\u001b[0m\n\u001b[0;32m----> 1\u001b[0;31m \u001b[0mhuh\u001b[0m\u001b[0;34m(\u001b[0m\u001b[0;36m3\u001b[0m\u001b[0;34m)\u001b[0m\u001b[0;34m\u001b[0m\u001b[0;34m\u001b[0m\u001b[0m\n\u001b[0m",
      "\u001b[0;32m<ipython-input-29-e4d5b603a386>\u001b[0m in \u001b[0;36mhuh\u001b[0;34m(x)\u001b[0m\n\u001b[1;32m      1\u001b[0m \u001b[0;32mdef\u001b[0m \u001b[0mhuh\u001b[0m\u001b[0;34m(\u001b[0m\u001b[0mx\u001b[0m\u001b[0;34m)\u001b[0m\u001b[0;34m:\u001b[0m\u001b[0;34m\u001b[0m\u001b[0;34m\u001b[0m\u001b[0m\n\u001b[1;32m      2\u001b[0m     \u001b[0;32mif\u001b[0m \u001b[0mx\u001b[0m \u001b[0;34m!=\u001b[0m \u001b[0;36m4\u001b[0m\u001b[0;34m:\u001b[0m\u001b[0;34m\u001b[0m\u001b[0;34m\u001b[0m\u001b[0m\n\u001b[0;32m----> 3\u001b[0;31m         \u001b[0;32mraise\u001b[0m \u001b[0mException\u001b[0m\u001b[0;34m(\u001b[0m\u001b[0;34m'huh'\u001b[0m\u001b[0;34m)\u001b[0m\u001b[0;34m\u001b[0m\u001b[0;34m\u001b[0m\u001b[0m\n\u001b[0m",
      "\u001b[0;31mException\u001b[0m: huh"
     ]
    }
   ],
   "source": [
    "huh(3)"
   ]
  },
  {
   "cell_type": "code",
   "execution_count": null,
   "metadata": {},
   "outputs": [],
   "source": []
  }
 ],
 "metadata": {
  "kernelspec": {
   "display_name": "Python 3",
   "language": "python",
   "name": "python3"
  },
  "language_info": {
   "codemirror_mode": {
    "name": "ipython",
    "version": 3
   },
   "file_extension": ".py",
   "mimetype": "text/x-python",
   "name": "python",
   "nbconvert_exporter": "python",
   "pygments_lexer": "ipython3",
   "version": "3.8.1"
  }
 },
 "nbformat": 4,
 "nbformat_minor": 2
}
