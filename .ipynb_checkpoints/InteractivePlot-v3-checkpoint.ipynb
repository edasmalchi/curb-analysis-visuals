{
 "cells": [
  {
   "cell_type": "markdown",
   "metadata": {},
   "source": [
    "## Interactive Plot for Santa Monica Curb Data\n",
    "\n",
    "This notebook, built on seaborn and ipython widgets, allows the user to specify times of interest in the Santa Monica curb data and generate plots in near real-time. It also provides an option to download the underlying data. Initial loading time is about 30 seconds, please be patient!\n",
    "\n",
    "### Usage Notes\n",
    "* The download option is currently a toggle. If a download option other than \"None\" is selected, it will generate a download each time you move the time slider.\n",
    "* Vehicle information in the header is in decending order by duration."
   ]
  },
  {
   "cell_type": "code",
   "execution_count": null,
   "metadata": {},
   "outputs": [],
   "source": [
    "%matplotlib inline\n",
    "import pandas as pd\n",
    "import fastparquet\n",
    "import snappy\n",
    "import curbdata as cd\n",
    "\n",
    "import importlib"
   ]
  },
  {
   "cell_type": "code",
   "execution_count": null,
   "metadata": {},
   "outputs": [],
   "source": [
    "# ## This cell reads in the source data\n",
    "\n",
    "# alldays_timestamped = pd.read_parquet('TimestampToSep11new.parquet')\n",
    "## TODO ensure sort happens in timestamper...\n",
    "# alldays_timestamped.sort_index(level='Timestamp', inplace=True)\n",
    "# alldays_timestamped.to_parquet('TimestampToSep11new.parquet')\n",
    "# #alldays_timestamped = alldays_timestamped.dropna(subset=['Duration'])"
   ]
  },
  {
   "cell_type": "code",
   "execution_count": null,
   "metadata": {
    "scrolled": true
   },
   "outputs": [],
   "source": [
    "format_dict = {'unrestricted spaces': ['Space 3'],\n",
    "              'key spaces': ['Space 1', 'Space 2', 'Space 3', 'SB bike lane'],\n",
    "              'location column': 'Vehicle Location',\n",
    "              'violator column': 'Violator',\n",
    "              'enf start/end': ('18:00', '22:00'),\n",
    "              }\n",
    "importlib.reload(cd);\n",
    "smc_plot = cd.CurbDataPlotter(pd.read_parquet('TimestampToSep11new.parquet'), format_dict)"
   ]
  },
  {
   "cell_type": "code",
   "execution_count": null,
   "metadata": {},
   "outputs": [],
   "source": [
    "plot_sub = smc_plot.subset(timestamps=('2019-09-01 18:00:01', '2019-09-01 19:30:01'))"
   ]
  },
  {
   "cell_type": "code",
   "execution_count": null,
   "metadata": {},
   "outputs": [],
   "source": [
    "plot_sub.time_occ_plot();"
   ]
  },
  {
   "cell_type": "code",
   "execution_count": null,
   "metadata": {},
   "outputs": [],
   "source": [
    "plot_sub.time_activity_plot();"
   ]
  },
  {
   "cell_type": "code",
   "execution_count": null,
   "metadata": {},
   "outputs": [],
   "source": [
    "plot_sub.time_activity_plot(percent=False);"
   ]
  },
  {
   "cell_type": "code",
   "execution_count": null,
   "metadata": {},
   "outputs": [],
   "source": [
    "mondays = smc_plot.subset(weekday='Monday')"
   ]
  },
  {
   "cell_type": "code",
   "execution_count": null,
   "metadata": {},
   "outputs": [],
   "source": [
    "mondays.time_activity_plot();"
   ]
  },
  {
   "cell_type": "code",
   "execution_count": null,
   "metadata": {},
   "outputs": [],
   "source": [
    "mondays.time_activity_plot(percent=False);"
   ]
  },
  {
   "cell_type": "code",
   "execution_count": null,
   "metadata": {},
   "outputs": [],
   "source": [
    "smc_plot.interactive_plot()"
   ]
  },
  {
   "cell_type": "code",
   "execution_count": null,
   "metadata": {},
   "outputs": [],
   "source": []
  }
 ],
 "metadata": {
  "kernelspec": {
   "display_name": "Python 3",
   "language": "python",
   "name": "python3"
  },
  "language_info": {
   "codemirror_mode": {
    "name": "ipython",
    "version": 3
   },
   "file_extension": ".py",
   "mimetype": "text/x-python",
   "name": "python",
   "nbconvert_exporter": "python",
   "pygments_lexer": "ipython3",
   "version": "3.8.1"
  }
 },
 "nbformat": 4,
 "nbformat_minor": 2
}
