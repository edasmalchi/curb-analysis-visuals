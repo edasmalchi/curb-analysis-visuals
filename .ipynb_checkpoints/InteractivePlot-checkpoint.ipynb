{
 "cells": [
  {
   "cell_type": "code",
   "execution_count": 9,
   "metadata": {},
   "outputs": [],
   "source": [
    "import numpy as np\n",
    "import pandas as pd\n",
    "import datetime as dt\n",
    "\n",
    "%matplotlib inline\n",
    "import matplotlib.pyplot as plt\n",
    "import matplotlib.dates as mdates\n",
    "import matplotlib.cbook as cbook\n",
    "from pandas.plotting import register_matplotlib_converters\n",
    "register_matplotlib_converters()\n",
    "import seaborn as sns\n",
    "#import mplcursors\n",
    "\n",
    "import sys\n",
    "import operator\n",
    "\n",
    "import fastparquet\n",
    "import snappy\n",
    "\n",
    "import ipywidgets as widgets\n",
    "from ipywidgets import interact, interactive, fixed, interact_manual"
   ]
  },
  {
   "cell_type": "code",
   "execution_count": 10,
   "metadata": {},
   "outputs": [],
   "source": [
    " def showall(df):\n",
    "    #shows entire dataframe\n",
    "    assert df.shape[0] < 5000\n",
    "    with pd.option_context('display.max_rows', None, 'display.max_columns', None):  # more options can be specified also\n",
    "        display(df)"
   ]
  },
  {
   "cell_type": "code",
   "execution_count": 11,
   "metadata": {},
   "outputs": [],
   "source": [
    "alldays_timestamped = pd.read_parquet('TimestampToSep11.parquet')\n",
    "alldays_timestamped.sort_index(level='Timestamp', inplace=True)"
   ]
  },
  {
   "cell_type": "code",
   "execution_count": 56,
   "metadata": {},
   "outputs": [],
   "source": [
    "def make_plot(df, palette, save):\n",
    "    ##make size interactive?\n",
    "    \n",
    "    #return int for size based on plot duration\n",
    "    def dynamic(duration_min):\n",
    "        if duration_min < 2:\n",
    "            return 7\n",
    "        elif duration_min < 5:\n",
    "            return 6\n",
    "        elif duration_min < 15:\n",
    "            return 5\n",
    "        elif duration_min < 30:\n",
    "            return 3\n",
    "        elif duration_min < 60:\n",
    "            return 3\n",
    "        else:\n",
    "            return 2\n",
    "    \n",
    "    #suppress Pandas view vs copy warning (seems to work ok here)\n",
    "    with pd.option_context('mode.chained_assignment', None):\n",
    "        #remove locations besides spc 1-3, bike lane\n",
    "        filtered_df = df[~df['Vehicle Location'].isin(['SB travel lane', \n",
    "                                                        'NB right turn pocket', 'Both/Middle of Space 1 & 2'])]\n",
    "        #order locations\n",
    "        filtered_df.sort_values(by=['Vehicle Location'], inplace=True)\n",
    "        #create time column from index for x-axis, assign enforcement start/end times\n",
    "        filtered_df['Time'] = filtered_df.index\n",
    "        start = min(filtered_df.index).to_pydatetime()\n",
    "        end = max(filtered_df.index).to_pydatetime()\n",
    "        duration = ((end - start).seconds) / 60\n",
    "        \n",
    "        enf_start = start.replace(hour=18, minute=0)\n",
    "        enf_end = start.replace(hour=22, minute=0)\n",
    "\n",
    "        #time range to display\n",
    "        fig,ax = plt.subplots()\n",
    "        #plot using Seaborn strip plot, set x-axis range, add line at enforcement start/end time\n",
    "        #hue based on 'Violator' values, which include TNC/CNS status \n",
    "        ax = sns.stripplot(x=\"Time\", y=\"Vehicle Location\", hue='Violator', palette=palette, data=filtered_df,\n",
    "                           size = dynamic(duration), jitter=False)\n",
    "        ax.set_xlim([start, end])\n",
    "        ax.axvline(enf_start, label='Loading Zone Start', c='r')\n",
    "        ax.axvline(enf_end, label='Loading Zone End', c='b')\n",
    "        #move legend\n",
    "        ax.legend(bbox_to_anchor=(1.05, 1), loc=2, borderaxespad=0.)\n",
    "        #title plot with date\n",
    "        ax.set_title(filtered_df['Begin Date'][0])\n",
    "        #format times on x-axis to readable '9:30PM' format\n",
    "        ax.xaxis.set_major_formatter(mdates.DateFormatter('%-I:%M %p'))\n",
    "        fig.autofmt_xdate()\n",
    "        #Save to figures folder with start/end times in filename\n",
    "        if save:\n",
    "            plt.savefig('Figures/{}–{}.png'.format(start, end), dpi=600, format=\"png\", bbox_inches='tight')\n",
    "            \n",
    "            \n",
    "        plt.show()\n",
    "        return ax"
   ]
  },
  {
   "cell_type": "code",
   "execution_count": 13,
   "metadata": {},
   "outputs": [],
   "source": [
    "def plot(df, allday_df=alldays_timestamped, save=False):\n",
    "    sns.set_style('white')\n",
    "    #get/sort unique Violator types\n",
    "    unique = allday_df['Violator'].unique()\n",
    "    unique.sort()\n",
    "    #colors from xkcd colors https://xkcd.com/color/rgb/ \n",
    "    colors = ['black', 'scarlet', 'light red', \n",
    "              'olive green', 'grass green', 'mint', \n",
    "              'brick red', 'dark orange', 'pumpkin']\n",
    "    #zip Violator types to color values\n",
    "    palette = dict(zip(unique, sns.xkcd_palette(colors)))\n",
    "    #call to make actual plot\n",
    "    try:\n",
    "        fig = make_plot(df, palette, save)\n",
    "    except:\n",
    "        print('Please select a valid time range.')\n",
    "    return"
   ]
  },
  {
   "cell_type": "code",
   "execution_count": 54,
   "metadata": {},
   "outputs": [],
   "source": [
    "time_widget = widgets.SelectionRangeSlider(options=[0], continuous_update=False, layout={'width': '400px'})\n",
    "date_widget = widgets.Dropdown(options=alldays_timestamped['Begin Date'].unique())\n",
    "\n",
    "def update(*args):\n",
    "    index = alldays_timestamped[alldays_timestamped['Begin Date'] == date_widget.value].index\n",
    "    minutes = index.strftime('%I:%M%p').unique()\n",
    "    time_widget.options = minutes\n",
    "date_widget.observe(update)\n",
    "\n",
    "def iplot(Date, Time, df):\n",
    "    datefiltered = alldays_timestamped[alldays_timestamped['Begin Date'] == Date]\n",
    "    try:\n",
    "        timefiltered = datefiltered[datefiltered.index.time > dt.datetime.strptime(Time[0], '%I:%M%p').time()]\n",
    "        timefiltered = timefiltered[timefiltered.index.time < dt.datetime.strptime(Time[1], '%I:%M%p').time()]\n",
    "        plot(timefiltered)\n",
    "        with pd.option_context('mode.chained_assignment', None):\n",
    "            top_durations = timefiltered[~timefiltered['Vehicle Location'].isin(['Space 3', 'SB travel lane', \n",
    "                                                                'NB right turn pocket', 'Both/Middle of Space 1 & 2'])]\n",
    "            top_durations.drop(['Begin Date', 'Vehicle Type', 'Vehicle Characteristics', \n",
    "                                    'Bikeway Users Displaced', 'LZ Space Avail', \n",
    "                                    'Occupied while idle?', 'CNS?', 'TNC?'], axis=1, inplace=True)\n",
    "            display(top_durations.drop_duplicates(['Duration']).sort_values(by='Duration', \n",
    "                                                                            ascending=False)[:10].set_index('Vehicle Location'))\n",
    "    except:\n",
    "        print('Please select a valid time range.')"
   ]
  },
  {
   "cell_type": "code",
   "execution_count": 55,
   "metadata": {},
   "outputs": [
    {
     "data": {
      "application/vnd.jupyter.widget-view+json": {
       "model_id": "d070a00bc4154ffd83411303abd1ef4c",
       "version_major": 2,
       "version_minor": 0
      },
      "text/plain": [
       "interactive(children=(Dropdown(description='Date', options=('08/21/2019', '08/22/2019', '08/23/2019', '08/24/2…"
      ]
     },
     "metadata": {},
     "output_type": "display_data"
    }
   ],
   "source": [
    "interact(iplot, Date=date_widget, Time=time_widget, df=fixed(alldays_timestamped));"
   ]
  },
  {
   "cell_type": "markdown",
   "metadata": {},
   "source": [
    "## Moving Forwards\n",
    "* buttons to save plot, generate+download stats... "
   ]
  },
  {
   "cell_type": "code",
   "execution_count": null,
   "metadata": {},
   "outputs": [],
   "source": []
  }
 ],
 "metadata": {
  "kernelspec": {
   "display_name": "Python 3",
   "language": "python",
   "name": "python3"
  },
  "language_info": {
   "codemirror_mode": {
    "name": "ipython",
    "version": 3
   },
   "file_extension": ".py",
   "mimetype": "text/x-python",
   "name": "python",
   "nbconvert_exporter": "python",
   "pygments_lexer": "ipython3",
   "version": "3.8.1"
  }
 },
 "nbformat": 4,
 "nbformat_minor": 2
}
