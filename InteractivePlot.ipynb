{
 "cells": [
  {
   "cell_type": "code",
   "execution_count": 1,
   "metadata": {},
   "outputs": [
    {
     "name": "stderr",
     "output_type": "stream",
     "text": [
      "/Users/edasmalchi/anaconda3/envs/pd1/lib/python3.8/site-packages/fastparquet/dataframe.py:5: FutureWarning: pandas.core.index is deprecated and will be removed in a future version.  The public classes are available in the top-level namespace.\n",
      "  from pandas.core.index import CategoricalIndex, RangeIndex, Index, MultiIndex\n"
     ]
    }
   ],
   "source": [
    "import numpy as np\n",
    "import pandas as pd\n",
    "import datetime as dt\n",
    "\n",
    "%matplotlib inline\n",
    "import matplotlib.pyplot as plt\n",
    "import matplotlib.dates as mdates\n",
    "import matplotlib.cbook as cbook\n",
    "from pandas.plotting import register_matplotlib_converters\n",
    "register_matplotlib_converters()\n",
    "import seaborn as sns\n",
    "#import mplcursors\n",
    "\n",
    "import sys\n",
    "import operator\n",
    "\n",
    "import fastparquet\n",
    "import snappy\n",
    "\n",
    "import ipywidgets as widgets\n",
    "from ipywidgets import interact, interactive, fixed, interact_manual"
   ]
  },
  {
   "cell_type": "code",
   "execution_count": 2,
   "metadata": {},
   "outputs": [],
   "source": [
    " def showall(df):\n",
    "    \"\"\"shows entire dataframe\"\"\"\n",
    "    assert df.shape[0] < 5000\n",
    "    with pd.option_context('display.max_rows', None, 'display.max_columns', None):  # more options can be specified also\n",
    "        display(df)"
   ]
  },
  {
   "cell_type": "code",
   "execution_count": 3,
   "metadata": {},
   "outputs": [],
   "source": [
    "alldays_timestamped = pd.read_parquet('TimestampToSep11new.parquet')\n",
    "alldays_timestamped.sort_index(level='Timestamp', inplace=True)"
   ]
  },
  {
   "cell_type": "code",
   "execution_count": 4,
   "metadata": {},
   "outputs": [],
   "source": [
    "alldays_timestamped = alldays_timestamped.dropna(subset=['Duration'])"
   ]
  },
  {
   "cell_type": "code",
   "execution_count": 5,
   "metadata": {},
   "outputs": [],
   "source": [
    "def make_plot(df, palette, save):\n",
    "    \"\"\"return int for size based on plot duration\"\"\"\n",
    "    def dynamic(duration_min):\n",
    "        if duration_min < 2:\n",
    "            return 7\n",
    "        elif duration_min < 5:\n",
    "            return 6\n",
    "        elif duration_min < 15:\n",
    "            return 5\n",
    "        elif duration_min < 60:\n",
    "            return 3\n",
    "        else:\n",
    "            return 2\n",
    "    #suppress Pandas view vs copy warning (seems to work ok here)\n",
    "    with pd.option_context('mode.chained_assignment', None):\n",
    "        #remove locations besides spc 1-3, bike lane\n",
    "        filtered_df = df[~df['Vehicle Location'].isin(['SB travel lane', \n",
    "                                                        'NB right turn pocket', 'Both/Middle of Space 1 & 2'])]\n",
    "        #order locations\n",
    "        filtered_df.sort_values(by=['Vehicle Location'], inplace=True)\n",
    "        #create time column from index for x-axis, assign enforcement start/end times\n",
    "        filtered_df['Time'] = filtered_df.index\n",
    "        start = min(filtered_df.index).to_pydatetime()\n",
    "        end = max(filtered_df.index).to_pydatetime()\n",
    "        duration = ((end - start).seconds) / 60\n",
    "        enf_start = start.replace(hour=18, minute=0)\n",
    "        enf_end = start.replace(hour=22, minute=0)\n",
    "        \n",
    "        fig, ax = plt.subplots()\n",
    "        #plot using Seaborn strip plot, set x-axis range, add line at enforcement start/end time\n",
    "        #hue based on 'Violator' values, which include TNC/CNS status \n",
    "        ax = sns.stripplot(x=\"Time\", y=\"Vehicle Location\", hue='Violator', palette=palette, data=filtered_df,\n",
    "                           size = dynamic(duration), jitter=False)\n",
    "        ax.set_xlim([start, end])\n",
    "        ax.axvline(enf_start, label='Loading Zone Start', c='r')\n",
    "        ax.axvline(enf_end, label='Loading Zone End', c='b')\n",
    "        #move legend\n",
    "        ax.legend(bbox_to_anchor=(1.05, 1), loc=2, borderaxespad=0.)\n",
    "        #title plot with date\n",
    "        ax.set_title(filtered_df['Begin Date'][0])\n",
    "        #format times on x-axis to readable '9:30PM' format\n",
    "        ax.xaxis.set_major_formatter(mdates.DateFormatter('%-I:%M %p'))\n",
    "        fig.autofmt_xdate()\n",
    "        #Save to figures folder with start/end times in filename\n",
    "        if save:\n",
    "            plt.savefig('Figures/{}–{}.png'.format(start, end), dpi=600, format=\"png\", bbox_inches='tight')\n",
    "        plt.show()\n",
    "        return ax\n",
    "\n",
    "def plot(df, allday_df=alldays_timestamped, save=False):\n",
    "    \"\"\"top-level plot function, sets style and color palette\"\"\"\n",
    "    sns.set_style('white')\n",
    "    #get/sort unique Violator types\n",
    "    unique = allday_df['Violator'].unique()\n",
    "    unique.sort()\n",
    "    #colors from xkcd colors https://xkcd.com/color/rgb/ \n",
    "    colors = ['black', 'scarlet', 'light red', \n",
    "              'olive green', 'grass green', 'mint', \n",
    "              'brick red', 'dark orange', 'pumpkin']\n",
    "    #zip Violator types to color values\n",
    "    palette = dict(zip(unique, sns.xkcd_palette(colors)))\n",
    "    #call to make actual plot\n",
    "    fig = make_plot(df, palette, save)\n",
    "    return"
   ]
  },
  {
   "cell_type": "code",
   "execution_count": 6,
   "metadata": {},
   "outputs": [],
   "source": [
    "def download_df(df):\n",
    "    \"\"\"Generates downloadable CSV from input df\n",
    "    Total copy/paste job from \n",
    "    https://stackoverflow.com/questions/31893930/download-csv-from-an-ipython-notebook\n",
    "    Javascript allows for client-side CSV generation, avoids creating server-side CSV\n",
    "    for each request\n",
    "    \"\"\"\n",
    "    from IPython.display import Javascript\n",
    "    js_download = \"\"\"\n",
    "    var csv = '%s';\n",
    "\n",
    "    var filename = 'CurbDataExport.csv';\n",
    "    var blob = new Blob([csv], { type: 'text/csv;charset=utf-8;' });\n",
    "    if (navigator.msSaveBlob) { // IE 10+\n",
    "        navigator.msSaveBlob(blob, filename);\n",
    "    } else {\n",
    "        var link = document.createElement(\"a\");\n",
    "        if (link.download !== undefined) { // feature detection\n",
    "            // Browsers that support HTML5 download attribute\n",
    "            var url = URL.createObjectURL(blob);\n",
    "            link.setAttribute(\"href\", url);\n",
    "            link.setAttribute(\"download\", filename);\n",
    "            link.style.visibility = 'hidden';\n",
    "            document.body.appendChild(link);\n",
    "            link.click();\n",
    "            document.body.removeChild(link);\n",
    "        }\n",
    "    }\n",
    "    \"\"\" % df.to_csv(index=False).replace('\\n','\\\\n').replace(\"'\",\"\\'\")\n",
    "\n",
    "    return Javascript(js_download)"
   ]
  },
  {
   "cell_type": "code",
   "execution_count": 7,
   "metadata": {},
   "outputs": [],
   "source": [
    "#create widgets for interact\n",
    "time_widget = widgets.SelectionRangeSlider(options=[0], continuous_update=False, layout={'width': '400px'})\n",
    "date_widget = widgets.Dropdown(options=alldays_timestamped['Begin Date'].unique())\n",
    "download_widget = widgets.ToggleButtons(\n",
    "    options=['None', 'Summary Only', 'Detailed'],\n",
    "    description='Generate Download?',\n",
    "    disabled=False,\n",
    "    button_style='', # 'success', 'info', 'warning', 'danger' or ''\n",
    "    tooltips=['Will not generate export CSV', \n",
    "              'Generates export CSV with level of detail same as displayed summary',\n",
    "              'Generates export CSV with full detail'],\n",
    "    style=dict(description_width='initial')\n",
    "#     icons=['check'] * 3\n",
    ")\n",
    "\n",
    "def update(*args):\n",
    "    \"\"\"allows date selection to define time selection range\"\"\"\n",
    "    index = alldays_timestamped[alldays_timestamped['Begin Date'] == date_widget.value].index\n",
    "    minutes = index.strftime('%I:%M%p').unique()\n",
    "    time_widget.options = minutes\n",
    "date_widget.observe(update)\n",
    "\n",
    "def disp_summary(filtered_df, keep, viol_correction):\n",
    "    \"\"\"Displays summary information for a (subset) dataframe\n",
    "    Appears under plot created by iplot function\n",
    "    \"\"\"\n",
    "    with pd.option_context('mode.chained_assignment', None):\n",
    "        #Drop space 3 and minor locations to focus on Space 1/Space 2\n",
    "        top_durations = filtered_df[~filtered_df['Vehicle Location'].isin(['Space 3', 'SB travel lane', \n",
    "                                                            'NB right turn pocket', 'Both/Middle of Space 1 & 2'])]\n",
    "        #Drop less useful columns to present clear summary\n",
    "        top_durations.drop(['Begin Date', 'Vehicle Type', 'Vehicle Characteristics', \n",
    "                                'Bikeway Users Displaced', 'LZ Space Avail', \n",
    "                                'Occupied while idle?', 'CNS?', 'TNC?'], axis=1, inplace=True)\n",
    "        #keep value based on above tests, ensures accurate Violator display in df\n",
    "        top_durations = top_durations.drop_duplicates(['Duration'], keep=keep)\n",
    "        top_durations = top_durations.sort_values(by='Duration', ascending=False)\n",
    "        top_durations = top_durations.set_index('Vehicle Location')\n",
    "        #manually correct edge case of violator spanning entire interval\n",
    "        if viol_correction:\n",
    "            top_durations.iloc[0, -1] = 'Violator'\n",
    "        return top_durations\n",
    "\n",
    "def iplot(Date, Time, df, enf_start, enf_end, download, display_rows):\n",
    "    \"\"\"Interactive wrapper for plot function\"\"\"\n",
    "    datefiltered = alldays_timestamped[alldays_timestamped['Begin Date'] == Date]\n",
    "    #calculates enforcement duration based on fixed/variable args\n",
    "    enf_dur = (dt.datetime.combine(dt.date.today(),dt.time.fromisoformat(enf_end)) \n",
    "                   - dt.datetime.combine(dt.date.today(),dt.time.fromisoformat(enf_start)))\n",
    "    try:\n",
    "        #filters df based on selected interval\n",
    "        start_dt = dt.datetime.strptime(Time[0], '%I:%M%p')\n",
    "        start_time = start_dt.time()\n",
    "        end_dt = dt.datetime.strptime(Time[1], '%I:%M%p')\n",
    "        end_time = end_dt.time()\n",
    "\n",
    "        timefiltered = datefiltered[datefiltered.index.time > start_time]\n",
    "        timefiltered = timefiltered[timefiltered.index.time < end_time]\n",
    "        \n",
    "        #tests to sort so as to to display accurate Violator value\n",
    "        keep = 'last'\n",
    "        viol_correction = False\n",
    "        if end_time > dt.time.fromisoformat(enf_end):\n",
    "            keep = 'first'\n",
    "\n",
    "            longest_dur = timefiltered['Duration'].max()\n",
    "            to_td = dt.datetime.strptime(longest_dur, '%H:%M:%S')\n",
    "            td = dt.timedelta(hours=to_td.hour, minutes=to_td.minute, seconds=to_td.second)\n",
    "            if td > enf_dur:\n",
    "                viol_correction = True\n",
    "        if timefiltered.shape[0] < 1:\n",
    "            raise IndexError\n",
    "\n",
    "    #provide useful error messages for zero-duration range selections, invalid Duration values in source data            \n",
    "    except IndexError:\n",
    "        print('Please select a valid time range.')\n",
    "        return\n",
    "    except TypeError:\n",
    "        print('Invalid duration values, violator classification may be inaccurate')\n",
    "        if timefiltered['Duration'].max() == np.nan:\n",
    "            print('Please select a valid time range.')\n",
    "        return\n",
    "    \n",
    "    plot(timefiltered)\n",
    "    summarydf = disp_summary(timefiltered, keep, viol_correction)\n",
    "    display(summarydf[:display_rows])\n",
    "    \n",
    "    if download == 'Summary Only':\n",
    "        return download_df(summarydf.sort_values(by='Begin Time'))\n",
    "    elif download == 'Detailed':\n",
    "        return download_df(timefiltered)"
   ]
  },
  {
   "cell_type": "code",
   "execution_count": 8,
   "metadata": {},
   "outputs": [
    {
     "data": {
      "application/vnd.jupyter.widget-view+json": {
       "model_id": "c0106455a0d2431793cf102077e9424f",
       "version_major": 2,
       "version_minor": 0
      },
      "text/plain": [
       "interactive(children=(Dropdown(description='Date', options=('08/21/2019', '08/22/2019', '08/23/2019', '08/24/2…"
      ]
     },
     "metadata": {},
     "output_type": "display_data"
    }
   ],
   "source": [
    "interact(iplot, Date=date_widget, Time=time_widget, \n",
    "         df=fixed(alldays_timestamped), enf_start=fixed('18:00:00'),\n",
    "        enf_end=fixed('22:00:00'), download=download_widget,\n",
    "        display_rows=fixed(10));"
   ]
  },
  {
   "cell_type": "code",
   "execution_count": null,
   "metadata": {},
   "outputs": [],
   "source": [
    "download_df(alldays_timestamped[:10])"
   ]
  },
  {
   "cell_type": "markdown",
   "metadata": {},
   "source": [
    "## Moving Forwards\n",
    "* buttons to save plot, generate+download stats... \n"
   ]
  }
 ],
 "metadata": {
  "kernelspec": {
   "display_name": "Python 3",
   "language": "python",
   "name": "python3"
  },
  "language_info": {
   "codemirror_mode": {
    "name": "ipython",
    "version": 3
   },
   "file_extension": ".py",
   "mimetype": "text/x-python",
   "name": "python",
   "nbconvert_exporter": "python",
   "pygments_lexer": "ipython3",
   "version": "3.8.1"
  }
 },
 "nbformat": 4,
 "nbformat_minor": 2
}
