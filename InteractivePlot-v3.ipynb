{
 "cells": [
  {
   "cell_type": "markdown",
   "metadata": {},
   "source": [
    "## Interactive Plot for Santa Monica Curb Data\n",
    "\n",
    "This notebook, built on seaborn and ipython widgets, allows the user to specify times of interest in the Santa Monica curb data and generate both detailled and aggregate plots. It also provides options to download the plot and/or the underlying data.\n",
    "\n",
    "### Usage Notes\n",
    "* If an aggregation type other than \"Specific Date/Time\" is selected (e.g., aggregating over all Mondays), the Date and Time widgets will not update the plot. \n",
    "* Also, the detailled plot is only available for a single date at a time.\n",
    "* Certain operations (aggregate plots for large amounts of data, such as Weekdays or All Data) can be slow.\n",
    "* Initial load currently takes about a minute on Binder."
   ]
  },
  {
   "cell_type": "code",
   "execution_count": 3,
   "metadata": {},
   "outputs": [],
   "source": [
    "%matplotlib inline\n",
    "import pandas as pd\n",
    "import fastparquet\n",
    "import snappy\n",
    "import curbdata as cd\n",
    "\n",
    "import importlib"
   ]
  },
  {
   "cell_type": "code",
   "execution_count": 6,
   "metadata": {
    "scrolled": true
   },
   "outputs": [],
   "source": [
    "format_dict = {'unrestricted spaces': ['Space 3'],\n",
    "              'key spaces': ['Space 1', 'Space 2', 'Space 3', 'SB bike lane'],\n",
    "              'location column': 'Vehicle Location',\n",
    "              'violator column': 'Violator',\n",
    "              'enf start/end': ('18:00', '22:00'),\n",
    "              }\n",
    "importlib.reload(cd);\n",
    "smc_plot = cd.CurbDataPlotter(pd.read_parquet('TimestampToSep11new.parquet'), format_dict)"
   ]
  },
  {
   "cell_type": "code",
   "execution_count": 7,
   "metadata": {},
   "outputs": [
    {
     "data": {
      "application/vnd.jupyter.widget-view+json": {
       "model_id": "509bfbe59bf94362b86584371f2852a5",
       "version_major": 2,
       "version_minor": 0
      },
      "text/plain": [
       "interactive(children=(ToggleButtons(description='Plot Type', options=('Detailled', 'Aggregate', 'Aggregate (pe…"
      ]
     },
     "metadata": {},
     "output_type": "display_data"
    }
   ],
   "source": [
    "smc_plot.interactive_plot()"
   ]
  },
  {
   "cell_type": "code",
   "execution_count": null,
   "metadata": {},
   "outputs": [],
   "source": []
  }
 ],
 "metadata": {
  "kernelspec": {
   "display_name": "Python 3",
   "language": "python",
   "name": "python3"
  },
  "language_info": {
   "codemirror_mode": {
    "name": "ipython",
    "version": 3
   },
   "file_extension": ".py",
   "mimetype": "text/x-python",
   "name": "python",
   "nbconvert_exporter": "python",
   "pygments_lexer": "ipython3",
   "version": "3.8.1"
  }
 },
 "nbformat": 4,
 "nbformat_minor": 2
}
